{
 "cells": [
  {
   "cell_type": "markdown",
   "metadata": {},
   "source": [
    "# Ion Trap Reinforcement Learning Environment"
   ]
  },
  {
   "cell_type": "markdown",
   "metadata": {},
   "source": [
    "## How it works"
   ]
  },
  {
   "cell_type": "markdown",
   "metadata": {},
   "source": [
    "This exercise is supposed to be interactive, but it is up to you how interactive it really is. I will explain some stuff, and then, I will pose some <span class=\"mark\">**TASK**</span>. You can choose to work for a time on the task and then move on to the solutions at any time. The solutions are usually provided in blocks of related tasks. Note that my solutions are not necessarily the most efficient or best. They are suggestions that work fine for what we are going to do here. If your code looks different, this is not necessarily an indication that it is wrong.\n",
    "\n",
    "At the end of the last two chapters **Qudit quantum mechanics** and **Laser pulses as unitaries** there are *Wrappinp up* sections which summarize the most important code created in the respective chapters. The full environment is provided at the end and builds on that code.\n",
    "\n",
    "Moreover, the entire code of the ion trap environment is also provided in accompanying *python* files. If you are really impatient you can just understand the code starting from there. However, you loose the benefit of understanding how the process of building such an environment goes.\n",
    "\n",
    "The reinforcement learning environmentclass `IonTrapEnv` can be found in `ion_trap.py` which inherits from the `QuditQM` class in `qudit_qm.py`. The environment also uses methods defined in the `LaserGates` class from `laser_gates.py`.\n",
    "\n",
    "**Enjoy it your way!**"
   ]
  },
  {
   "cell_type": "markdown",
   "metadata": {},
   "source": [
    "## Introduction"
   ]
  },
  {
   "cell_type": "markdown",
   "metadata": {},
   "source": [
    "**In this exercise we are going to build a reinforcement learning environment in which an agent can apply (simulated) laser pulses to an array of (simulated) ions (e.g., ${}^{137}Ba^{+})$ in a Paul trap. The goal for the agent is to create a large amount of quantum entanglement between as many ions as possible.**\n",
    "\n",
    "Maybe you don't know anything about ions, or Paul traps. Well, lucky for you, me neither. So, let us together ignore our ignorance for the time being and move on. Ideally, smarter people have then already figured it all out in such a way that a theorist like myself can readily neglect everything about ions and lasers, and instead, just consider Hilbert spaces and unitaries. If this is the case, we can rephrase the introductory sentence in a way which is much more adequate for what we are going to code:\n",
    "\n",
    "**In this exercise we are going to build a reinforcement learning environment in which an agent can apply unitaries to $n$ $d$-level quantum systems. The goal is to create $d$-dimensional GHZ states.**\n",
    "\n",
    "In other words, we are dealing with complex vectors $|\\psi\\rangle\\in(\\mathbb{C}^d)^{\\otimes n}$ and unitary matrices $U$ acting on them. Of course, what exactly these unitaries are will be determined by the laser pulses that can actually be implemented in the lab. Being an ignorant quantum information theorist by heart, I do not know what is and what is not possible in an experiment. Still, I am not ready to confront my ignorance just yet and will instead keep heading forward heedlessly. \n",
    "\n",
    "What I like to do when I am about to code something like a reinforcement learning environment is to build a skeleton. That is, code or pseudocode which is not working but helps me understand what classes or methods are required to complete it. I like to think of it as a cloze where the blanks are methods or attributes which are to be filled in. So let's do that."
   ]
  },
  {
   "cell_type": "markdown",
   "metadata": {},
   "source": [
    "## Skeleton Environment"
   ]
  },
  {
   "cell_type": "markdown",
   "metadata": {},
   "source": [
    "What a reinforcement learning environment is supposed to do can be easily described within a generic picture. \n",
    "\n",
    "<img src=images/rl_paradigm.png width=\"400\"/>"
   ]
  },
  {
   "cell_type": "markdown",
   "metadata": {},
   "source": [
    "As far as the associated code goes, we can imagine something as follows,"
   ]
  },
  {
   "cell_type": "code",
   "execution_count": null,
   "metadata": {
    "deletable": false,
    "editable": false
   },
   "outputs": [],
   "source": [
    "# dummy code -- do not run\n",
    "\n",
    "env = FooEnv()\n",
    "\n",
    "for i in range(100):\n",
    "    done = False\n",
    "    observation = env.reset()\n",
    "    while not done:\n",
    "        action = np.random.choice(env.num_actions)\n",
    "        observation, reward, done = env.step(action)"
   ]
  },
  {
   "cell_type": "markdown",
   "metadata": {},
   "source": [
    "Here, the agent is random and chooses actions at random. The environment however, has all the important methods:\n",
    "\n",
    "* `reset()`: Resets the environment to its initial state. *Returns* the initial observation.\n",
    "* `step(action)`: Performs an action (given by an action index) on the environment. *Returns* the new observation, an associated reward and a bool value `done` which indicates whether a terminal state has been reached.\n",
    "    \n",
    "\n",
    "These methods should be provided in every reinforcement learning environment and conform with the [*openAI* `gym`](https://github.com/openai/gym) standard."
   ]
  },
  {
   "cell_type": "markdown",
   "metadata": {},
   "source": [
    "### Build an empty class with all required methods"
   ]
  },
  {
   "cell_type": "markdown",
   "metadata": {},
   "source": [
    "**<span class=\"mark\">TASK</span>** Now, we can start building our skeleton. That is, we want to build a class `IonTrapEnv()` which features the methods `reset()` and `step(action)`. In addition, we can already implement the `num_actions` attribute with a placeholder value. You get the chance to do it yourself below. The solution will always be provided afterwards."
   ]
  },
  {
   "cell_type": "code",
   "execution_count": null,
   "metadata": {},
   "outputs": [],
   "source": [
    "# build skeleton class `IonTrapEnv`\n",
    "\n",
    "\n",
    "\n",
    "\n",
    "\n",
    "\n",
    "\n"
   ]
  },
  {
   "cell_type": "markdown",
   "metadata": {
    "heading_collapsed": true
   },
   "source": [
    "### Solution"
   ]
  },
  {
   "cell_type": "markdown",
   "metadata": {
    "hidden": true
   },
   "source": [
    "In this solution I already added some documentations loosely following the [google docs](https://sphinxcontrib-napoleon.readthedocs.io/en/latest/example_google.html) style guide. As good practice you should do the same. It makes working in a team much easier if you have proper docs and code."
   ]
  },
  {
   "cell_type": "code",
   "execution_count": 86,
   "metadata": {
    "deletable": false,
    "editable": false,
    "hidden": true
   },
   "outputs": [],
   "source": [
    "# dummy code -- do not run\n",
    "\n",
    "class IonTrapEnv(object):\n",
    "    def __init__(self):\n",
    "        \"\"\"\n",
    "        \"\"\"\n",
    "        #int: Number of actions.\n",
    "        self.num_actions = 0 # placeholder\n",
    "        \n",
    "    def reset():\n",
    "        \"\"\"\n",
    "        Returns:\n",
    "            observation (array): The observation received by the agent.\n",
    "        \"\"\"\n",
    "        pass\n",
    "\n",
    "    def step(action):\n",
    "        \"\"\"\n",
    "        Args:\n",
    "            action (int): The action index.\n",
    "            \n",
    "        Returns:\n",
    "            observation (array): The observation received by the agent.\n",
    "            reward (float): The reward quantifying good or bad behavior.\n",
    "            done (bool): Whether or not the episode has finished.\n",
    "        \"\"\"\n",
    "        pass"
   ]
  },
  {
   "cell_type": "markdown",
   "metadata": {},
   "source": [
    "### Start adding (pseudo-)functionality"
   ]
  },
  {
   "cell_type": "markdown",
   "metadata": {},
   "source": [
    "Now this is what I call a bare minimum of a skeleton, no flesh whatsoever. The natural next step is to add some pseudocode to define its functionality, or maybe put into writing (e.g., as docs) what the environment and the methods are supposed to do."
   ]
  },
  {
   "cell_type": "markdown",
   "metadata": {},
   "source": [
    "#### init method"
   ]
  },
  {
   "cell_type": "markdown",
   "metadata": {},
   "source": [
    "I will make the start and describe what I want the environment to do in general. In other words, I will give a global view starting with the `init` function and you can do the `step` and `reset` methods. Here is my interpretation of the environment in the docs:"
   ]
  },
  {
   "cell_type": "code",
   "execution_count": null,
   "metadata": {
    "deletable": false,
    "editable": false
   },
   "outputs": [],
   "source": [
    "# dummy code -- do not run\n",
    "\n",
    "class IonTrapEnv(object):\n",
    "    def __init__(self):\n",
    "        \"\"\"\n",
    "        This is the environment for a d-level ion trap quantum computer.\n",
    "        An agent has a certain gate set at its disposal made up from elementary\n",
    "        laser pulses (whatever that means).\n",
    "\n",
    "        At each time step an agent can choose one gate to apply to the current\n",
    "        quantum state of the environment. The state, as well as observation, \n",
    "        is a d^n dimensional quantum state where d is the local dimension of\n",
    "        each ion and n is the number of ions. The initial state is |0...0>.\n",
    "        \n",
    "        The goal is to create high-dimensional, multipartite entanglement between \n",
    "        ions. Once such a state has been created, the agent receives a reward. \n",
    "        \n",
    "        If a maximum number of time steps is reached, an episoded is forcefully \n",
    "        ended and should be restarted.\n",
    "        \"\"\"\n",
    "        #int: Number of actions.\n",
    "        self.num_actions = 0 # placeholder"
   ]
  },
  {
   "cell_type": "markdown",
   "metadata": {},
   "source": [
    "Sounds high-level. So what does that imply about any attributes and methods that we are going to need? Well, let's go through the docs line by line:\n",
    "\n",
    "* **gate set**: So there has to be some gate set. These are the unitaries which we are going to implement. I would consider this a `list()` of matrices such that its length is the number of actions and a single action can be associated with an index. In order to define and generate these gates, I would even suggest a new class `LaserGates()`. This class may provide an attribute `gates` which is our gate set.\n",
    "\n",
    "* **apply gates**: This is going to be the `action` in the `step` method. We want something like `self.actions[action]` *applied to* `self.state` to implement an action.\n",
    "\n",
    "* **d^n dimensional quantum state**: This tells us that we are dealing with $d^n$ dimensional vectors and $d^n\\times d^n$ dimensional matrices. Good. So, probably we want some attributes for this, too. Let's define `dim` for $d$ and `num_ions` for $n$.\n",
    "\n",
    "* **initial state**: So the initial state will be some tensor product of $|0\\rangle$ states. This will be an attribute even though we haven't discussed yet how to describe them mathematically.\n",
    "\n",
    "* **high-dimensional, multipartite entanglement**: This will be used in the `step` function to determine whether a reward is given or not. Therefore, there should be some goal states. Even though, we don't know what they are yet, we can put an attribute with placeholder value.\n",
    "\n",
    "* **reward**: This is tied to *high-dimensional, multipartite entanglement* and is implemented in and received from the `step` method.\n",
    "\n",
    "* **maximum time steps**: This tells us that there is a maximum number of time steps which should make the `step` method return `done=True` if exceeded.\n",
    "    \n",
    "Alright, let us put in some attributes in line with our docs."
   ]
  },
  {
   "cell_type": "code",
   "execution_count": null,
   "metadata": {
    "deletable": false,
    "editable": false
   },
   "outputs": [],
   "source": [
    "# dummy code -- do not run\n",
    "\n",
    "class IonTrapEnv(object):\n",
    "    def __init__(self):\n",
    "        \"\"\"\n",
    "        This is the environment for a d-level ion trap quantum computer.\n",
    "        An agent has a certain gate set at its disposal made up from elementary\n",
    "        laser pulses (whatever that means).\n",
    "\n",
    "        At each time step an agent can choose one gate to apply to the current\n",
    "        quantum state of the environment. The state, as well as observation, \n",
    "        is a d^n dimensional quantum state where d is the local dimension of\n",
    "        each ion and n is the number of ions. The initial state is |0...0>.\n",
    "        \n",
    "        The goal is to create high-dimensional, multipartite entanglement between \n",
    "        ions. Once such a state has been created, the agent receives a reward. \n",
    "        \n",
    "        If a maximum number of time steps is reached, an episoded is forcefully \n",
    "        ended and should be restarted.\n",
    "        \"\"\"\n",
    "        #:class:`LaserGates`: Some class that lets us generate the unitaries used as actions.\n",
    "        self.gates = LaserGates()\n",
    "        #list: The action gate set obtained from the class.\n",
    "        self.actions = self.gates.gates\n",
    "        #int: Number of actions.\n",
    "        self.num_actions = len(self.actions) \n",
    "\n",
    "        #int: Local ion dimension.\n",
    "        self.dim = 3\n",
    "        #int: Number of ions.\n",
    "        self.num_ions = 3\n",
    "        \n",
    "        self.init_state = 0 # placeholder: the initial state\n",
    "        self.state = self.init_state # placeholder: the internal state of the environment\n",
    "        \n",
    "        self.goal = 0 # placeholder: something that characterizes entanglement\n",
    "        \n",
    "        #int: Current number of time steps.\n",
    "        self.time_step = 0\n",
    "        #int: Maximum number of time steps.\n",
    "        self.max_steps = 10"
   ]
  },
  {
   "cell_type": "markdown",
   "metadata": {},
   "source": [
    "From this quick sketch of an `init` function, it becomes obvious that we need to start thinking about implementation of states and matrices. Also, we don't know yet how to classify entanglement. So, let's get this discussion out of the way now!"
   ]
  },
  {
   "cell_type": "markdown",
   "metadata": {},
   "source": [
    "#### numerical python for linear algebra"
   ]
  },
  {
   "cell_type": "markdown",
   "metadata": {},
   "source": [
    "I am a big fan of `numpy` and I wholeheartedly recommend it. It is fast, reliable and the most common tool for numerical computations in python. In addition, it supports `scipy` as an additional module for scientific computing with python. In case you don't know, let me here and now ensure you that `numpy` in combination with `scipy` gives us all the tools we need to handle quantum information and computation on a small scale with few discrete quantum objects (i.e., linear algebra). For instance, matrix multiplication between $M$ and $N$ is performed as `M@N`.\n",
    "Henceforth, our states and unitiaries will therefore be of type `np.ndarray`. You may not be convinced yet, but I will have you warm up to `numpy` and `scipy` before too long."
   ]
  },
  {
   "cell_type": "markdown",
   "metadata": {},
   "source": [
    "#### entanglement characterization"
   ]
  },
  {
   "cell_type": "markdown",
   "metadata": {},
   "source": [
    "Now, we also need to make a decision on how to characterize entanglement. This is a hard one. As good physicists, we should start with a quick Google search. A natural first would be *multidimensional multipartite entanglement characterization* (heh, I cheated because I know what we are looking for). There is a bunch of papers popping up and what ensues is a mind-numbing search for an adequate entanglement measure or monotone. To save breath, I will tell you that one of the first papers on your google search already contains the information we are looking for:\n",
    "\n",
    "*The structure of multidimensional entanglement in multipartite systems*, M. Huber and J.I. de Vicente, [arxiv:1210.6876](https://arxiv.org/pdf/1210.6876.pdf).\n",
    "\n",
    "You may have heard the word *Schmidt rank* before. It is a measure of entanglement for quantum states shared between *two* parties. In the paper, the authors generalize the Schmidt rank to multipartite systems by introducing a *Schmidt rank vector* (SRV). In particular, it provides us with an easy-to-calculate tool which also classifies GHZ-type entanglement. Perfect! We still don't know what it is exactly, but let's say we are going to use it."
   ]
  },
  {
   "cell_type": "markdown",
   "metadata": {},
   "source": [
    "#### reset and step methods"
   ]
  },
  {
   "cell_type": "markdown",
   "metadata": {},
   "source": [
    "**<span class=\"mark\">TASK</span>** With these decisions from the table, I ask you now to complete the skeleton for the `reset` and `step` methods below. I have taken the freedom to fill in the docs for you. Lucky you!"
   ]
  },
  {
   "cell_type": "code",
   "execution_count": null,
   "metadata": {},
   "outputs": [],
   "source": [
    "# dummy code -- do not run\n",
    "\n",
    "    def reset(self):\n",
    "        \"\"\"\n",
    "        Resets the environment to its initial state, i.e., |0...0>.\n",
    "        Resets counter.\n",
    "        \n",
    "        Returns:\n",
    "            state (np.ndarray): Initial state vector.\n",
    "        \"\"\"\n",
    "        # TODO: fill in code\n",
    "        \n",
    "        \n",
    "        \n",
    "        \n",
    "    \n",
    "    def step(self, action):\n",
    "        \"\"\"\n",
    "        Performs and evaluates an action on the environment.\n",
    "        \n",
    "        (1) A quantum gate from our laser gate set is applied to the\n",
    "            current state of the environment.\n",
    "        (2) The Schmidt rank vector (SRV) is calculate for the current state\n",
    "            of the environment. I\n",
    "        (3) If the SRV is among the set of goal SRVs, a reward +1 is provided and\n",
    "            the trial is done. If not, no reward is given. The trial is ended if \n",
    "            the time exceed the maximum number of steps.\n",
    "\n",
    "        Args:\n",
    "            action (int): Index of action in gate set.\n",
    "\n",
    "        Returns:\n",
    "            state (np.ndarray): Current state of the environment.\n",
    "            reward (float): Current reward.\n",
    "            done (bool): Whether or not the episode is done.\n",
    "        \"\"\"\n",
    "        # TODO: fill in missing code\n",
    "        done = False\n",
    "        reward = 0.\n",
    "        # increment counter\n",
    "        self.time_step += 1\n",
    "        # (1) Apply gate to state (FILL IN)\n",
    "        \n",
    "        # (2) Calculate SRV\n",
    "        srv = self.srv(self.state) # some method that we are still missing\n",
    "        # (3) Finish episode and give reward if appropriate (FILL IN)\n",
    "        \n",
    "        \n",
    "        \n",
    "        \n",
    "        \n",
    "        return self.state, reward, done"
   ]
  },
  {
   "cell_type": "markdown",
   "metadata": {},
   "source": [
    "#### Solution"
   ]
  },
  {
   "cell_type": "code",
   "execution_count": null,
   "metadata": {},
   "outputs": [],
   "source": [
    "# dummy code -- do not run\n",
    "\n",
    "    def reset(self):\n",
    "        \"\"\"\n",
    "        Resets the environment to its initial state, i.e., |0...0>.\n",
    "        Resets counter.\n",
    "        \n",
    "        Returns:\n",
    "            state (np.ndarray): Initial state vector.\n",
    "        \"\"\"\n",
    "        self.state = self.init_state\n",
    "        self.time_step = 0\n",
    "        \n",
    "        return self.state\n",
    "    \n",
    "    def step(self, action):\n",
    "        \"\"\"\n",
    "        Performs and evaluates an action on the environment.\n",
    "        \n",
    "        (1) A quantum gate from our laser gate set is applied to the\n",
    "            current state of the environment.\n",
    "        (2) The Schmidt rank vector (SRV) is calculate for the current state\n",
    "            of the environment. I\n",
    "        (3) If the SRV is among the set of goal SRVs, a reward is provided and\n",
    "            the trial is done. If not, no reward is given. The trial is ended if \n",
    "            the time exceed the maximum number of steps.\n",
    "\n",
    "        Args:\n",
    "            action (int): Index of action in gate set.\n",
    "\n",
    "        Returns:\n",
    "            state (np.ndarray): Current state of the environment.\n",
    "            reward (float): Current reward.\n",
    "            done (bool): Whether or not the episode is done.\n",
    "        \"\"\"\n",
    "        done = False\n",
    "        reward = 0.\n",
    "        # increment counter\n",
    "        self.time_step += 1\n",
    "        # (1) Apply gate to state\n",
    "        self.state = self.gates.gates[action]@self.state\n",
    "        # (2) Calculate SRV\n",
    "        srv = self.srv(self.state) # some method that we are still missing\n",
    "        # (3) Finish episode and give reward if appropriate\n",
    "        if srv in self.goal:\n",
    "            done = True\n",
    "            reward = 1.\n",
    "        elif self.time_step >= self.max_steps:\n",
    "            done = True\n",
    "            \n",
    "        return self.state, reward, done"
   ]
  },
  {
   "cell_type": "markdown",
   "metadata": {},
   "source": [
    "### What's next"
   ]
  },
  {
   "cell_type": "markdown",
   "metadata": {},
   "source": [
    "At this point, we should have a look at our skeleton class for our ion trap environment and ask ourselves what is missing."
   ]
  },
  {
   "cell_type": "code",
   "execution_count": null,
   "metadata": {
    "deletable": false,
    "editable": false
   },
   "outputs": [],
   "source": [
    "# dummy code -- do not run\n",
    "\n",
    "class IonTrapEnv(object):\n",
    "    def __init__(self):\n",
    "        \"\"\"\n",
    "        This is the environment for a d-level ion trap quantum computer.\n",
    "        An agent has a certain gate set at its disposal made up from elementary\n",
    "        laser pulses (whatever that means).\n",
    "\n",
    "        At each time step an agent can choose one gate to apply to the current\n",
    "        quantum state of the environment. The state, as well as observation, \n",
    "        is a d^n dimensional quantum state where d is the local dimension of\n",
    "        each ion and n is the number of ions. The initial state is |0...0>.\n",
    "        \n",
    "        The goal is to create high-dimensional, multipartite entanglement between \n",
    "        ions. Once such a state has been created, the agent receives a reward. \n",
    "        \n",
    "        If a maximum number of time steps is reached, an episoded is forcefully \n",
    "        ended and should be restarted.\n",
    "        \"\"\"\n",
    "        #:class:`LaserGates`: Some class that lets us generate the unitaries used as actions.\n",
    "        self.gates = LaserGates()\n",
    "        #list: The action gate set obtained from the class.\n",
    "        self.actions = self.gates.gates\n",
    "        #int: Number of actions.\n",
    "        self.num_actions = len(self.actions) \n",
    "\n",
    "        #int: Local ion dimension.\n",
    "        self.dim = 3\n",
    "        #int: Number of ions.\n",
    "        self.num_ions = 3\n",
    "        \n",
    "        #np.ndarray: Initial state.\n",
    "        self.init_state = 0 # placeholder\n",
    "        #np.ndarray: Current state of the environment and observation.\n",
    "        self.state = self.init_state\n",
    "        \n",
    "        #list: List of SRVs that are rewarded. \n",
    "        self.goal = 0 # placeholder\n",
    "        \n",
    "        #int: Current number of time steps.\n",
    "        self.time_step = 0\n",
    "        #int: Maximum number of time steps.\n",
    "        self.max_steps = 10\n",
    "        \n",
    "    def reset(self):\n",
    "        \"\"\"\n",
    "        Resets the environment to its initial state, i.e., |0...0>.\n",
    "        Resets counter.\n",
    "        \n",
    "        Returns:\n",
    "            state (np.ndarray): Initial state vector.\n",
    "        \"\"\"\n",
    "        self.state = self.init_state\n",
    "        self.time_step = 0\n",
    "        \n",
    "        return self.state\n",
    "    \n",
    "    def step(self, action):\n",
    "        \"\"\"\n",
    "        Performs and evaluates an action on the environment.\n",
    "        \n",
    "        (1) A quantum gate from our laser gate set is applied to the\n",
    "            current state of the environment.\n",
    "        (2) The Schmidt rank vector (SRV) is calculate for the current state\n",
    "            of the environment. I\n",
    "        (3) If the SRV is among the set of goal SRVs, a reward is provided and\n",
    "            the trial is done. If not, no reward is given. The trial is ended if \n",
    "            the time exceed the maximum number of steps.\n",
    "\n",
    "        Args:\n",
    "            action (int): Index of action in gate set.\n",
    "\n",
    "        Returns:\n",
    "            state (np.ndarray): Current state of the environment.\n",
    "            reward (float): Current reward.\n",
    "            done (bool): Whether or not the episode is done.\n",
    "        \"\"\"\n",
    "        done = False\n",
    "        reward = 0.\n",
    "        # increment counter\n",
    "        self.time_step += 1\n",
    "        # (1) Apply gate to state\n",
    "        self.state = self.gates.gates[action]@self.state\n",
    "        # (2) Calculate SRV\n",
    "        srv = self.srv(self.state) # some method that we are still missing\n",
    "        # (3) Finish episode and give reward if appropriate (FILL IN)\n",
    "        if srv in self.goal:\n",
    "            done = True\n",
    "            reward = 1.\n",
    "        elif self.time_step >= self.max_steps:\n",
    "            done = True\n",
    "            \n",
    "        return self.state, reward, done"
   ]
  },
  {
   "cell_type": "markdown",
   "metadata": {},
   "source": [
    "Alright! Looks already not too bad. But there are a few obvious *blanks* that needs to be filled in.\n",
    "\n",
    "* `LaserGates()`: We are missing this class altogether.\n",
    "* `self.init_state`: We have not defined $|0...0\\rangle$ in terms of `np.ndarrays` yet.\n",
    "* `self.goal`: We have not defined the goal SRVs yet.\n",
    "* `self.srv()`: We have no method to calculate an SRV.\n",
    "\n",
    "<span class=\"mark\">**TASK**</span> Good. That's well-arranged. The important question at this point is what's the next item on our to-do list? Think about it!"
   ]
  },
  {
   "cell_type": "markdown",
   "metadata": {
    "heading_collapsed": true
   },
   "source": [
    "### Solution"
   ]
  },
  {
   "cell_type": "markdown",
   "metadata": {
    "hidden": true
   },
   "source": [
    "Well, I do not believe it is the `LaserGates` since they will require methods which define states and matrices in the first place. So, actually I think we want to do some linear algebra with d-level quantum systems, or as we like to call them in quantum information, *qudits*."
   ]
  },
  {
   "cell_type": "markdown",
   "metadata": {},
   "source": [
    "## Qudit Quantum Mechanics "
   ]
  },
  {
   "cell_type": "markdown",
   "metadata": {},
   "source": [
    "Trusting student that you are, you have probably taken me by my word that `numpy` and `scipy` are sufficient and good choices for all the things we want to do. Indeed, matrix multiplication between $M$ and $N$ is performed easily as `M@N` and the conjugate transposition $M^\\dagger$ of a matrix $M$ is simply `M.conj().T`. The `scipy.linalg` module then fills in the few gaps in the `numpy` library. For instance, it supports methods such as `expm()`, i.e., matrix exponentials $e^M$, which we need to define gates in quantum computation. However, don't take my word for it, start using it yourself!"
   ]
  },
  {
   "cell_type": "markdown",
   "metadata": {},
   "source": [
    "### Foolin' with qu*bits*"
   ]
  },
  {
   "cell_type": "markdown",
   "metadata": {},
   "source": [
    "**<span class=\"mark\">TASK</span>** Let us fool around a bit. The most fundamental object that is commonly used to describe spin $1/2$ systems in quantum mechanics are Pauli matrices. In quantum computation, we use them to describe a Clifford algebra for 2-level quantum gates. They are as follows,\n",
    "\n",
    "\\begin{align}\n",
    "\\sigma_x =\n",
    "\\begin{pmatrix}\n",
    "0 & 1\\\\\n",
    "1 & 0\n",
    "\\end{pmatrix},\\:\n",
    "\\sigma_y = \n",
    "\\begin{pmatrix}\n",
    "0 & -i\\\\\n",
    "i & 0\n",
    "\\end{pmatrix},\\:\n",
    "\\sigma_z = \n",
    "\\begin{pmatrix}\n",
    "1 & 0\\\\\n",
    "0 & -1\n",
    "\\end{pmatrix}.\\nonumber\n",
    "\\end{align}\n",
    "\n",
    "Hoping that you have at least a little experience with `numpy` I ask you to implement these. Also don't forget to always do a sanity check:"
   ]
  },
  {
   "cell_type": "code",
   "execution_count": 10,
   "metadata": {},
   "outputs": [],
   "source": [
    "# run this so ipython notebook generates multiple outputs\n",
    "from IPython.core.interactiveshell import InteractiveShell\n",
    "InteractiveShell.ast_node_interactivity = \"all\""
   ]
  },
  {
   "cell_type": "code",
   "execution_count": null,
   "metadata": {},
   "outputs": [],
   "source": [
    "import numpy as np\n",
    "from scipy import linalg\n",
    "\n",
    "# define Pauli matrices (FILL IN)\n",
    "\n",
    "\n",
    "\n",
    "# check that Pauli matrices are hermitian (FILL IN)\n",
    "\n",
    "\n",
    "\n",
    "# check XZ = -iY (FILL IN)\n",
    "\n",
    "# check XZ=-ZX (FILL IN)\n",
    "\n",
    "# define eigenstates of Z (FILL IN)\n",
    "# |0>\n",
    "zero = np.array([[1],[0]], dtype=complex)\n",
    "# |1>\n",
    "\n",
    "# check that above states are indeed eigenstates (FILL IN)\n",
    "\n",
    "\n"
   ]
  },
  {
   "cell_type": "markdown",
   "metadata": {},
   "source": [
    "Alright, let us define an arbitrary $Z$ rotation on a single qubit. This is defined as follows,\n",
    "\n",
    "\\begin{align}\n",
    "R_Z(\\theta)=e^{i\\theta Z}.\\nonumber\n",
    "\\end{align}\n",
    "\n",
    "Go ahead, the stage is all yours:"
   ]
  },
  {
   "cell_type": "code",
   "execution_count": 18,
   "metadata": {},
   "outputs": [],
   "source": [
    "def z_rot(theta):\n",
    "    \"\"\"\n",
    "    Arbitrary Z rotation.\n",
    "    \n",
    "    Args:\n",
    "        theta (float): Rotation angle.\n",
    "    \n",
    "    Returns:\n",
    "        z_rot (np.ndarray): exp(i*theta*Z)\n",
    "    \"\"\"\n",
    "    # TODO: fill in\n",
    "\n",
    "# test rotation with some angles\n"
   ]
  },
  {
   "cell_type": "markdown",
   "metadata": {
    "heading_collapsed": true
   },
   "source": [
    "### Solutions"
   ]
  },
  {
   "cell_type": "code",
   "execution_count": 11,
   "metadata": {
    "deletable": false,
    "editable": false,
    "hidden": true
   },
   "outputs": [
    {
     "data": {
      "text/plain": [
       "True"
      ]
     },
     "execution_count": 11,
     "metadata": {},
     "output_type": "execute_result"
    },
    {
     "data": {
      "text/plain": [
       "True"
      ]
     },
     "execution_count": 11,
     "metadata": {},
     "output_type": "execute_result"
    },
    {
     "data": {
      "text/plain": [
       "True"
      ]
     },
     "execution_count": 11,
     "metadata": {},
     "output_type": "execute_result"
    },
    {
     "data": {
      "text/plain": [
       "True"
      ]
     },
     "execution_count": 11,
     "metadata": {},
     "output_type": "execute_result"
    },
    {
     "data": {
      "text/plain": [
       "True"
      ]
     },
     "execution_count": 11,
     "metadata": {},
     "output_type": "execute_result"
    },
    {
     "data": {
      "text/plain": [
       "True"
      ]
     },
     "execution_count": 11,
     "metadata": {},
     "output_type": "execute_result"
    },
    {
     "data": {
      "text/plain": [
       "True"
      ]
     },
     "execution_count": 11,
     "metadata": {},
     "output_type": "execute_result"
    }
   ],
   "source": [
    "import numpy as np\n",
    "from scipy import linalg\n",
    "\n",
    "# define Pauli matrices\n",
    "X = np.array([[0,1.], [1.,0]], dtype=complex)\n",
    "Y = np.array([[0,-1.j], [1.j,0]], dtype=complex)\n",
    "Z = np.array([[1.,0], [0,-1.]], dtype=complex)\n",
    "\n",
    "# check that Pauli matrices are hermitian\n",
    "(X.conj().T==X).all()\n",
    "(Y.conj().T==Y).all()\n",
    "(Z.conj().T==Z).all()\n",
    "\n",
    "# check XZ = -iY\n",
    "(X@Z==-1j*Y).all()\n",
    "# check XZ=-ZX \n",
    "(X@Z==-1*Z@X).all()\n",
    "\n",
    "# define eigenstates of Z\n",
    "# |0>\n",
    "zero = np.array([[1],[0]], dtype=complex)\n",
    "# |1>\n",
    "one = np.array([[0],[1]], dtype=complex)\n",
    "# check eigenstates of Z \n",
    "(Z@zero==zero).all()\n",
    "(Z@one==-1*one).all()"
   ]
  },
  {
   "cell_type": "code",
   "execution_count": 12,
   "metadata": {
    "deletable": false,
    "editable": false,
    "hidden": true
   },
   "outputs": [
    {
     "data": {
      "text/plain": [
       "array([[-1.+0.j,  0.+0.j],\n",
       "       [ 0.+0.j, -1.-0.j]])"
      ]
     },
     "execution_count": 12,
     "metadata": {},
     "output_type": "execute_result"
    },
    {
     "data": {
      "text/plain": [
       "array([[0.+1.j, 0.+0.j],\n",
       "       [0.+0.j, 0.-1.j]])"
      ]
     },
     "execution_count": 12,
     "metadata": {},
     "output_type": "execute_result"
    },
    {
     "data": {
      "text/plain": [
       "array([[0.70710678+0.70710678j, 0.        +0.j        ],\n",
       "       [0.        +0.j        , 0.70710678-0.70710678j]])"
      ]
     },
     "execution_count": 12,
     "metadata": {},
     "output_type": "execute_result"
    }
   ],
   "source": [
    "def z_rot(theta):\n",
    "    \"\"\"\n",
    "    Arbitrary Z rotation.\n",
    "    \n",
    "    Args:\n",
    "        theta (float): Rotation angle.\n",
    "    \n",
    "    Returns:\n",
    "        z_rot (np.ndarray): exp(i*theta*Z)\n",
    "    \"\"\"\n",
    "    \n",
    "    return linalg.expm(1.j*theta*Z)\n",
    "\n",
    "# test rotation with some angles\n",
    "# theta=pi\n",
    "np.around(z_rot(np.pi), decimals=10) # getting rid of rounding errors\n",
    "# theta=pi/2\n",
    "z_rot(np.pi/2)\n",
    "# theta=pi/4\n",
    "z_rot(np.pi/4)"
   ]
  },
  {
   "cell_type": "markdown",
   "metadata": {},
   "source": [
    "### Foolin' with qu*dits*"
   ]
  },
  {
   "cell_type": "markdown",
   "metadata": {},
   "source": [
    "This was good for a warm-up. However, qubits are too simple. We want arbitrary $d$-level systems, *qudits*! So, we must ask whether we can define a generalized $X$- and $Z$-gate? Indeed, we can! In the interest of time and brevity, let us neglect $Z$ and consider a generalized $X$-operator.\n",
    "\n",
    "Note the qubit $X$ operator maps $|0\\rangle$ to $|1\\rangle$ and vice versa. In general $X$ maps $|i\\rangle$ to |i+1\\textrm{mod }d\\rangle$ for all $i=0,...,d-1$. This can be put into a neat formular:\n",
    "\n",
    "\\begin{align}\n",
    "X = \\sum_{i=0}^{d-1} |i+1\\textrm{mod }d\\rangle\\langle i|\\nonumber   \n",
    "\\end{align}\n",
    "\n",
    "That's easy. In fact, in python pseudocode I can directly write down this formular."
   ]
  },
  {
   "cell_type": "code",
   "execution_count": 60,
   "metadata": {
    "deletable": false,
    "editable": false
   },
   "outputs": [],
   "source": [
    "# dummy code -- do not run\n",
    "dim = 3\n",
    "Xd = np.zeros((dim, dim), dtype=complex)\n",
    "for i in range(dim):\n",
    "    Xd += ket((i+1)%dim, dim)@bra(i, dim)"
   ]
  },
  {
   "cell_type": "markdown",
   "metadata": {},
   "source": [
    "**<span class=\"mark\">TASK</span>** So just do me the favor and define the `ket` and `bra` functions so that the above code actually works:"
   ]
  },
  {
   "cell_type": "code",
   "execution_count": null,
   "metadata": {},
   "outputs": [],
   "source": [
    "def ket(i, dim):\n",
    "    \"\"\"\n",
    "    Basis vector |i>=(0,...,0,1,0,...,0).\n",
    "\n",
    "    Args:\n",
    "        i (int): Index of basis vector.\n",
    "        dim (int): Local dimension.\n",
    "\n",
    "    Returns:\n",
    "        vec (np.ndarray): Vector form of |i> as (d,1)-dimensional array.\n",
    "    \"\"\"\n",
    "    # TODO: fill in\n",
    "    \n",
    "    \n",
    "    \n",
    "    \n",
    "    \n",
    "\n",
    "def bra(i, dim):\n",
    "    \"\"\"\n",
    "    Basis vector <i|=(0,...,0,1,0,...,0)^T.\n",
    "\n",
    "    Args:\n",
    "        i (int): Index of basis vector.\n",
    "        dim (int): Local dimension.\n",
    "\n",
    "    Returns:\n",
    "        vec (np.ndarray): Vector form of <i| as (1,d)-dimensional array.\n",
    "    \"\"\"\n",
    "    # TODO: fill in\n",
    "    \n",
    "    \n",
    "    \n",
    "# check that above code works (FILL IN)\n",
    "\n",
    "\n",
    "\n",
    "# check action of X on |0>,|1> and |2> (FILL IN)\n",
    "\n",
    "\n"
   ]
  },
  {
   "cell_type": "markdown",
   "metadata": {},
   "source": [
    "Fantastic! That's a big step already. You have learned to translate a matrix written as a sum of ket's and bra's into python code. And it wasn't even that hard. That will for sure come in handy once we start implementing laser gates. \n",
    "\n",
    "**<span class=\"mark\">TASK</span>** So put your fresh skills to the test and implement the famous *creation* and *annihilation* operators defined for $d$-level systems (where $d=2s+1$) as follows:\n",
    "\n",
    "\\begin{align}\n",
    "S_{+} = \\sum_{l=-s}^{s-1}\\sqrt{s(s+1)-l(l+1)}|l+s+1\\rangle\\langle{l+s}|\\nonumber\\\\\n",
    "S_{-} = \\sum_{l=-s}^{s-1}\\sqrt{s(s+1)-l(l+1)}|l+s\\rangle\\langle{l+s+1}|.\\nonumber\n",
    "\\end{align}\n",
    "\n",
    "Hands free! Please also do some docs because that's something one should learn early on. It facilitates good teamwork."
   ]
  },
  {
   "cell_type": "code",
   "execution_count": 38,
   "metadata": {
    "scrolled": false
   },
   "outputs": [],
   "source": [
    "def creation(dim):\n",
    "    \"\"\"\n",
    "    Creation operator S_{+} for odd dimensions.\n",
    "    \n",
    "    Args:\n",
    "    \n",
    "    \n",
    "    Returns:\n",
    "\n",
    "    \"\"\"\n",
    "    # TODO: fill in\n",
    "    \n",
    "    \n",
    "    \n",
    "    \n",
    "    \n",
    "    \n",
    "    \n",
    "\n",
    "def annihilation(dim):\n",
    "    \"\"\"\n",
    "    Annihilation operator S_{-} for odd dimensions.\n",
    "    \n",
    "    Args:\n",
    "\n",
    "    \n",
    "    Returns:\n",
    "\n",
    "    \"\"\"\n",
    "    # TODO: fill in\n",
    "    \n",
    "    \n",
    "    \n",
    "    \n",
    "    \n",
    "    \n",
    "    \n",
    "\n",
    "# look at example with d=3\n",
    "\n",
    "\n",
    "\n"
   ]
  },
  {
   "cell_type": "markdown",
   "metadata": {
    "heading_collapsed": true
   },
   "source": [
    "### Solutions"
   ]
  },
  {
   "cell_type": "code",
   "execution_count": 13,
   "metadata": {
    "deletable": false,
    "editable": false,
    "hidden": true
   },
   "outputs": [
    {
     "data": {
      "text/plain": [
       "array([[0.+0.j, 0.+0.j, 1.+0.j],\n",
       "       [1.+0.j, 0.+0.j, 0.+0.j],\n",
       "       [0.+0.j, 1.+0.j, 0.+0.j]])"
      ]
     },
     "execution_count": 13,
     "metadata": {},
     "output_type": "execute_result"
    },
    {
     "data": {
      "text/plain": [
       "True"
      ]
     },
     "execution_count": 13,
     "metadata": {},
     "output_type": "execute_result"
    },
    {
     "data": {
      "text/plain": [
       "True"
      ]
     },
     "execution_count": 13,
     "metadata": {},
     "output_type": "execute_result"
    },
    {
     "data": {
      "text/plain": [
       "True"
      ]
     },
     "execution_count": 13,
     "metadata": {},
     "output_type": "execute_result"
    }
   ],
   "source": [
    "def ket(i, dim):\n",
    "    \"\"\"\n",
    "    Basis vector |i>=(0,...,0,1,0,...,0).\n",
    "\n",
    "    Args:\n",
    "        i (int): Index of basis vector.\n",
    "        dim (int): Local dimension.\n",
    "\n",
    "    Returns:\n",
    "        vec (np.ndarray): Vector form of |i> as (d,1)-dimensional array.\n",
    "    \"\"\"\n",
    "    vec = np.zeros((dim, 1), dtype=complex)\n",
    "    vec[i] = 1.\n",
    "\n",
    "    return vec\n",
    "    \n",
    "\n",
    "def bra(i, dim):\n",
    "    \"\"\"\n",
    "    Basis vector <i|=(0,...,0,1,0,...,0)^T.\n",
    "\n",
    "    Args:\n",
    "        i (int): Index of basis vector.\n",
    "        dim (int): Local dimension.\n",
    "\n",
    "    Returns:\n",
    "        vec (np.ndarray): Vector form of <i| as (1,d)-dimensional array.\n",
    "    \"\"\"\n",
    "    vec = ket(i, dim).T\n",
    "\n",
    "    return vec\n",
    "\n",
    "# check that above code works\n",
    "dim = 3\n",
    "Xd = np.zeros((dim, dim), dtype=complex)\n",
    "for i in range(dim):\n",
    "    Xd += ket((i+1)%dim, dim)@bra(i, dim)\n",
    "Xd\n",
    "\n",
    "# check action of X on |0>,|1> and |2>\n",
    "(Xd@ket(0,3)==ket(1,3)).all()\n",
    "(Xd@ket(1,3)==ket(2,3)).all()\n",
    "(Xd@ket(2,3)==ket(0,3)).all()\n",
    "    "
   ]
  },
  {
   "cell_type": "code",
   "execution_count": 14,
   "metadata": {
    "deletable": false,
    "editable": false,
    "hidden": true
   },
   "outputs": [
    {
     "data": {
      "text/plain": [
       "array([[0.        +0.j, 0.        +0.j, 0.        +0.j],\n",
       "       [1.41421356+0.j, 0.        +0.j, 0.        +0.j],\n",
       "       [0.        +0.j, 1.41421356+0.j, 0.        +0.j]])"
      ]
     },
     "execution_count": 14,
     "metadata": {},
     "output_type": "execute_result"
    },
    {
     "data": {
      "text/plain": [
       "array([[0.        +0.j, 1.41421356+0.j, 0.        +0.j],\n",
       "       [0.        +0.j, 0.        +0.j, 1.41421356+0.j],\n",
       "       [0.        +0.j, 0.        +0.j, 0.        +0.j]])"
      ]
     },
     "execution_count": 14,
     "metadata": {},
     "output_type": "execute_result"
    }
   ],
   "source": [
    "def creation(dim):\n",
    "    \"\"\"\n",
    "    Creation operator S_{+} for odd dimensions.\n",
    "    \n",
    "    Args:\n",
    "        dim (int): Local dimension.\n",
    "    \n",
    "    Returns:\n",
    "        creation (np.ndarray): Creation operator of given dimension.\n",
    "    \"\"\"\n",
    "    # define empty creation operator\n",
    "    creation = np.zeros((dim, dim), dtype=complex)\n",
    "\n",
    "    # add summand |l+s+1><l+s| as defined in Eq. (5)\n",
    "    s = int((dim - 1)/2)\n",
    "    for l in range(-s, s):\n",
    "        m = np.sqrt(s*(s+1) - l*(l+1))*(ket(l+s+1, dim)@bra(l+s, dim))\n",
    "        creation += m\n",
    "\n",
    "    return creation\n",
    "\n",
    "def annihilation(dim):\n",
    "    \"\"\"\n",
    "    Annihilation operator S_{-} for odd dimensions.\n",
    "    \n",
    "    Args:\n",
    "        dim (int): Local dimension.\n",
    "    \n",
    "    Returns:\n",
    "        annihilation (np.ndarray): Annihilation operator of given dimension.\n",
    "    \"\"\"\n",
    "    # define empty annihilation operator\n",
    "    annihilation = np.zeros((dim, dim), dtype=complex)\n",
    "    s = int((dim - 1)/2)\n",
    "\n",
    "    # add summand |l+s><l+s+1| as defined in Eq. (5)\n",
    "    for l in range(-s, s):\n",
    "        m = np.sqrt(s*(s+1) - l*(l+1))*(ket(l+s, dim)@bra(l+s+1, dim))\n",
    "        annihilation += m\n",
    "\n",
    "    return annihilation\n",
    "\n",
    "# look at example with d=3\n",
    "creation(3)\n",
    "annihilation(3)"
   ]
  },
  {
   "cell_type": "markdown",
   "metadata": {},
   "source": [
    "### Multiple qudits"
   ]
  },
  {
   "cell_type": "markdown",
   "metadata": {},
   "source": [
    "Wow, we are deep into the matter. We have a way to define and manipulate single $d$-level quantum systems. But let's not forget our goal: Entanglement between *many* quantum systems. It is time to introduce *composite systems* to the code. For that, we need to define a *tensor product* for matrices and vectors. Luckily, `numpy` provides us with this method *for free*. It is called `np.kron` and can, for our purposes, be used interchangeably with $\\otimes$. \n",
    "\n",
    "**<span class=\"mark\">TASK</span>** Let's try it out! Given a `num_ions`, try to create an initial state $|0\\rangle\\otimes...\\otimes |0\\rangle$ (**Hint:** Use `reduce` from `functools` to nest a function). \n",
    "Now, you should also be able to create the infamous GHZ state for $n$ qudits:\n",
    "\n",
    "\\begin{align}\n",
    "|\\mathrm{GHZ}_{n,d}\\rangle = \\frac{1}{\\sqrt{d}}\\sum_{i=0}^{d-1}|i\\rangle_1\\otimes\\cdots\\otimes|i\\rangle_n\\nonumber\n",
    "\\end{align}\n",
    "\n",
    "For example, for 2 qutrits $|\\mathrm{GHZ}_{2,3}\\rangle=\\frac{1}{\\sqrt{3}}(|00\\rangle+|11\\rangle+|22\\rangle)$."
   ]
  },
  {
   "cell_type": "code",
   "execution_count": 58,
   "metadata": {},
   "outputs": [],
   "source": [
    "from functools import reduce\n",
    "\n",
    "dim = 3\n",
    "num_ions = 2 \n",
    "# create initial state |0...0> for any number of ions (FILL IN)\n",
    "\n",
    "# check dimension (FILL IN)\n",
    "\n",
    "\n",
    "# create ghz state (FILL IN)\n",
    "\n",
    "\n",
    "\n",
    "\n"
   ]
  },
  {
   "cell_type": "markdown",
   "metadata": {},
   "source": [
    "Okay. We have learned to define all the states we want by just using `reduce`, `np.kron` as well as our `ket` and `bra` methods. Easy! So how do we create gates on multiple qudits? Well, as long as we keep defining matrices in terms of `ket` and `bra`, we can just continue as always but throw some `reduce` and `np.kron` into the mix. There is however, one trick that might turn out to be useful. \n",
    "\n",
    "<span class=\"mark\">**TASK**</span> Say, we want to perform the single-qudit $X$-gate from before but have two qudits. How do we extend this such that it acts on the first qudit of our two qutrit initial state $|00\\rangle$? **HINT**: You will need to define an additional identity $X\\otimes I$."
   ]
  },
  {
   "cell_type": "code",
   "execution_count": 66,
   "metadata": {},
   "outputs": [],
   "source": [
    "# define Xd \\otimes I \n",
    "\n",
    "\n",
    "\n",
    "\n",
    "\n",
    "\n",
    "\n",
    "# check dimension\n",
    "\n",
    "# check gate functionality by applying to |00>\n"
   ]
  },
  {
   "cell_type": "markdown",
   "metadata": {
    "heading_collapsed": true
   },
   "source": [
    "### Solutions"
   ]
  },
  {
   "cell_type": "code",
   "execution_count": 15,
   "metadata": {
    "deletable": false,
    "editable": false,
    "hidden": true
   },
   "outputs": [
    {
     "data": {
      "text/plain": [
       "array([[1.+0.j],\n",
       "       [0.+0.j],\n",
       "       [0.+0.j],\n",
       "       [0.+0.j],\n",
       "       [0.+0.j],\n",
       "       [0.+0.j],\n",
       "       [0.+0.j],\n",
       "       [0.+0.j],\n",
       "       [0.+0.j]])"
      ]
     },
     "execution_count": 15,
     "metadata": {},
     "output_type": "execute_result"
    },
    {
     "data": {
      "text/plain": [
       "True"
      ]
     },
     "execution_count": 15,
     "metadata": {},
     "output_type": "execute_result"
    },
    {
     "data": {
      "text/plain": [
       "array([[0.57735027+0.j],\n",
       "       [0.        +0.j],\n",
       "       [0.        +0.j],\n",
       "       [0.        +0.j],\n",
       "       [0.57735027+0.j],\n",
       "       [0.        +0.j],\n",
       "       [0.        +0.j],\n",
       "       [0.        +0.j],\n",
       "       [0.57735027+0.j]])"
      ]
     },
     "execution_count": 15,
     "metadata": {},
     "output_type": "execute_result"
    }
   ],
   "source": [
    "from functools import reduce\n",
    "\n",
    "dim = 3\n",
    "num_ions = 2 \n",
    "# create initial state |0...0> for any number of ions (FILL IN)\n",
    "init_state = reduce(np.kron, [ket(0, dim) for i in range(num_ions)])\n",
    "init_state\n",
    "\n",
    "# check dimension\n",
    "init_state.shape[0]==dim**num_ions\n",
    "\n",
    "# create ghz state\n",
    "ghz = np.zeros((dim**num_ions, 1), dtype=complex)\n",
    "for i in range(dim):\n",
    "    ghz += 1/np.sqrt(dim)*reduce(np.kron, [ket(i, dim) for k in range(num_ions)])\n",
    "ghz"
   ]
  },
  {
   "cell_type": "code",
   "execution_count": 16,
   "metadata": {
    "deletable": false,
    "editable": false,
    "hidden": true
   },
   "outputs": [
    {
     "data": {
      "text/plain": [
       "True"
      ]
     },
     "execution_count": 16,
     "metadata": {},
     "output_type": "execute_result"
    },
    {
     "data": {
      "text/plain": [
       "True"
      ]
     },
     "execution_count": 16,
     "metadata": {},
     "output_type": "execute_result"
    }
   ],
   "source": [
    "# define Xd \\otimes I \n",
    "# define list of identities with X at the first position\n",
    "multi_gate = [np.eye(dim) for i in range(num_ions)]\n",
    "multi_gate[0] = Xd\n",
    "# apply tensor product\n",
    "multi_gate = reduce(np.kron, multi_gate)\n",
    "\n",
    "# check dimension\n",
    "multi_gate.shape==(dim**num_ions,dim**num_ions)\n",
    "# check gate functionality by applying to |00>\n",
    "(multi_gate@init_state==reduce(np.kron, [ket(1,dim), ket(0,dim)])).all()"
   ]
  },
  {
   "cell_type": "markdown",
   "metadata": {},
   "source": [
    "### Entanglement and Schmidt rank vector"
   ]
  },
  {
   "cell_type": "markdown",
   "metadata": {},
   "source": [
    "Alright, we know how to define and manipulate composite systems. However, we still don't know how to classify them in terms of entanglement. We know that we are going to use some mathematical object called the *Schmidt rank vector* (SRV) but we don't know what it is or how to calculate it. So what follows is a brief introduction which you may skip at your own leisure. Practically speaking, all you need is the formular at the end.\n",
    "\n",
    "The Schmidt rank of a pure, bipartite quantum state $|\\psi\\rangle\\in\\mathcal{H}_A\\otimes\\mathcal{H}_B$ is a measure of entanglement shared between two parties Alice $A$ and Bob $B$. It is defined as the rank of the reduced density matrix $\\rho_A=\\textrm{tr}_{B}(\\rho)$ of $\\rho=|\\psi\\rangle\\langle\\psi|$. The partial trace is defined as follows,\n",
    "\n",
    "\\begin{align}\n",
    "\\mathrm{tr}_B(\\rho):=\\sum_{i=0}^{d-1}I_A\\otimes\\langle i|_B \\rho I_A\\otimes |i\\rangle_B\\nonumber\n",
    "\\end{align}\n",
    "\n",
    "The SRV then calculates the Schmidt rank of all single-particle marginal which answers the question of how many dimensions are at least required to faithfully represent the pure state and its correlation in any local basis. In other words, defining the reduced density matrix \n",
    "\n",
    "\\begin{align}\n",
    "\\rho_i:=\\mathrm{tr}_{\\bar{i}}(\\rho)\n",
    "\\end{align}\n",
    "where $\\bar{i}$ is the complement of $\\{i\\}$ w.r.t. the set $\\{1,...,n\\}$, we can associate with it a Schmidt rank \n",
    "\n",
    "\\begin{align}\n",
    "r^\\rho_i=\\mathrm{rank}(\\rho_i).\n",
    "\\end{align}\n",
    "\n",
    "Arranging these number in a vector for all reduced density matrices, we obtain the SRV :\n",
    "\n",
    "\\begin{align}\n",
    "\\vec{d}_\\rho=(r_1^\\rho,...,r_n^\\rho).\n",
    "\\end{align}\n",
    "\n",
    "These three equations tell us exactly how to calculate the SRV for any pure state $\\rho=|\\psi\\rangle\\langle\\psi|$."
   ]
  },
  {
   "cell_type": "markdown",
   "metadata": {},
   "source": [
    "#### partial trace"
   ]
  },
  {
   "cell_type": "markdown",
   "metadata": {},
   "source": [
    "<span class=\"mark\">**TASK**</span> Below, somebody implemented a method that produces the partial trace. Unfortunately, whoever implemented this method was rather sloppy or unwilling to document their code. So provide help for all the people who will follow and write the docs and some supporting comments about what is happening here. Alternatevely, you may also first try to understand the undocumented version for some time and then the documented version in the solution. I predict that you will notice a significant difference. \n",
    "\n",
    "I hope that I can make you a believer in good code conduct. It is essential when working with people on the same code. Note that in-line comments can be helpful but are not strictly required by any style guide. And in fact, I did overcomment on purpose in this exercise. In general, make sure that your methods are small and sufficiently self-contained such that the code is readable even if uncommented."
   ]
  },
  {
   "cell_type": "code",
   "execution_count": 17,
   "metadata": {},
   "outputs": [
    {
     "data": {
      "text/plain": [
       "3"
      ]
     },
     "execution_count": 17,
     "metadata": {},
     "output_type": "execute_result"
    }
   ],
   "source": [
    "from itertools import product\n",
    "\n",
    "def partial_tr(rho, dim, num_ions, *args):\n",
    "    \"\"\"\n",
    "    \"\"\"\n",
    "    # TODO: fill in the docs and some comments at your own leisure\n",
    "    dim_reduced = dim**(num_ions-len(args))\n",
    "    reduced_rho = np.zeros((dim_reduced, dim_reduced), dtype=complex)\n",
    "    basis = [np.eye(dim, dtype=complex) for i in range(num_ions)]\n",
    "    for ion in args:\n",
    "        basis[ion] = np.zeros((dim, 1), dtype=complex)\n",
    "    for d_vec in product(range(dim), repeat=len(args)):\n",
    "        contractor = basis\n",
    "        for n, ion in enumerate(args):\n",
    "            contractor[ion][d_vec[n]] = 1.\n",
    "        contractor = reduce(np.kron, contractor)\n",
    "        reduced_rho += contractor.conj().T@rho@contractor\n",
    "    return reduced_rho\n",
    "\n",
    "# check rank of reduced density matrix for a 2-qutrit GHZ state\n",
    "dim = 3\n",
    "num_ions = 2\n",
    "reduced_rho = partial_tr(ghz@ghz.conj().T, dim, num_ions, 1)\n",
    "np.linalg.matrix_rank(reduced_rho)"
   ]
  },
  {
   "cell_type": "markdown",
   "metadata": {
    "heading_collapsed": true
   },
   "source": [
    "#### solution"
   ]
  },
  {
   "cell_type": "code",
   "execution_count": 18,
   "metadata": {
    "deletable": false,
    "editable": false,
    "hidden": true
   },
   "outputs": [
    {
     "data": {
      "text/plain": [
       "3"
      ]
     },
     "execution_count": 18,
     "metadata": {},
     "output_type": "execute_result"
    }
   ],
   "source": [
    "from itertools import product\n",
    "\n",
    "def partial_tr(rho, dim, num_ions, *args):\n",
    "    \"\"\"\n",
    "    Partial trace for a density matrix of multiple qudits (ions).\n",
    "    Given a set of indices of qudits, this methods traces the respective\n",
    "    qudits.\n",
    "\n",
    "    Args:\n",
    "        rho (np.ndarray): Density matrix which is to be traced.\n",
    "        dim (int): Local dimension.\n",
    "        num_ions (int): Number of ions.\n",
    "        *args (int): Variable list of indices of qudits/ions which are to be \n",
    "                     traced.\n",
    "\n",
    "    Returns:\n",
    "        reduced_rho (np.ndarray): Reduced density matrix.\n",
    "    \"\"\"\n",
    "    # define empty reduced density matrix\n",
    "    dim_reduced = dim**(num_ions-len(args))\n",
    "    reduced_rho = np.zeros((dim_reduced, dim_reduced), dtype=complex)\n",
    "    # define list of identities to be replaced by trace operator/contractor\n",
    "    basis = [np.eye(dim, dtype=complex) for i in range(num_ions)]\n",
    "    # replace id with all-zero ket vectors for ions which are to be traced\n",
    "    for ion in args:\n",
    "        basis[ion] = np.zeros((dim, 1), dtype=complex)\n",
    "    # perform contraction <i_1,..,i_k|\\rho|i_1,...,i_k> for all bases\n",
    "    for d_vec in product(range(dim), repeat=len(args)):\n",
    "        # fix basis state |i_1,...,i_k>\n",
    "        contractor = basis\n",
    "        for n, ion in enumerate(args):\n",
    "            contractor[ion][d_vec[n]] = 1.\n",
    "        contractor = reduce(np.kron, contractor)\n",
    "        # add contraction\n",
    "        reduced_rho += contractor.conj().T@rho@contractor\n",
    "\n",
    "    return reduced_rho\n",
    "\n",
    "# check rank of reduced density matrix for a 2-qutrit GHZ state\n",
    "dim = 3\n",
    "num_ions = 2\n",
    "reduced_rho = partial_tr(ghz@ghz.conj().T, dim, num_ions, 1)\n",
    "np.linalg.matrix_rank(reduced_rho)"
   ]
  },
  {
   "cell_type": "markdown",
   "metadata": {},
   "source": [
    "#### calculating SRVs"
   ]
  },
  {
   "cell_type": "markdown",
   "metadata": {},
   "source": [
    "<span class=\"mark\">**TASK**</span> With the partial trace at hand you should be able to calculate the SRV for a pure state $|\\psi\\rangle$. Complete the method indicated below and test it on a three-qutrit GHZ state. This state is maximally entangled and should therefore be (3,3,3)."
   ]
  },
  {
   "cell_type": "code",
   "execution_count": null,
   "metadata": {},
   "outputs": [],
   "source": [
    "def srv(self, ket, dim, num_ions):\n",
    "    \"\"\"\n",
    "    Calculates the SRV of an arbitrary pure state.\n",
    "\n",
    "    Args:\n",
    "        ket (np.ndarray): The input state.\n",
    "        dim (int): Local dimension.\n",
    "        num_ions (int): Number of ions.\n",
    "\n",
    "    Returns:\n",
    "        srv (list): List of integeres specifying the Schmidt ranks of all\n",
    "                    single-qudit marginals.\n",
    "    \"\"\"\n",
    "    # TODO: fill in blanks\n",
    "    # get density matrix from pure state (FILL IN)\n",
    "\n",
    "    # set of all ions\n",
    "    ions = set(range(num_ions))\n",
    "    # define empty list of SRs\n",
    "    srv = []\n",
    "    # calculate SR for all single-qudit marginals (FILL IN)\n",
    "\n",
    "    \n",
    "    \n",
    "\n",
    "    return srv\n",
    "\n",
    "# check SRV for three-qutrit GHZ state (FILL IN)\n",
    "\n",
    "\n",
    "\n"
   ]
  },
  {
   "cell_type": "markdown",
   "metadata": {
    "heading_collapsed": true
   },
   "source": [
    "#### solution"
   ]
  },
  {
   "cell_type": "code",
   "execution_count": 19,
   "metadata": {
    "deletable": false,
    "editable": false,
    "hidden": true
   },
   "outputs": [
    {
     "data": {
      "text/plain": [
       "[3, 3, 3]"
      ]
     },
     "execution_count": 19,
     "metadata": {},
     "output_type": "execute_result"
    }
   ],
   "source": [
    "def srv(ket, dim, num_ions):\n",
    "    \"\"\"\n",
    "    Calculates the SRV of an arbitrary pure state.\n",
    "\n",
    "    Args:\n",
    "        ket (np.ndarray): The input state.\n",
    "        dim (int): Local dimension.\n",
    "        num_ions (int): Number of ions.\n",
    "\n",
    "    Returns:\n",
    "        srv (list): List of integeres specifying the Schmidt ranks of all\n",
    "                    single-qudit marginals.\n",
    "    \"\"\"\n",
    "    # get density matrix from pure state\n",
    "    rho = ket@ket.conj().T\n",
    "    # set of all ions\n",
    "    ions = set(range(num_ions))\n",
    "    # define empty list of SRs\n",
    "    srv = []\n",
    "    # calculate SR for all single-qudit marginals\n",
    "    for i in range(num_ions):\n",
    "        # perform partial trace over all but one ion\n",
    "        traced = ions - set([i])\n",
    "        reduced_rho = partial_tr(rho, dim, num_ions, *traced)\n",
    "        # calculate rank of reduce density matrix\n",
    "        rank = np.linalg.matrix_rank(reduced_rho)\n",
    "        # add to SRV\n",
    "        srv.append(rank)\n",
    "\n",
    "    return srv\n",
    "\n",
    "# check SRV for three-qutrit GHZ state\n",
    "dim = 3\n",
    "num_ions = 3\n",
    "# create ghz state\n",
    "ghz = np.zeros((dim**num_ions, 1), dtype=complex)\n",
    "for i in range(dim):\n",
    "    ghz += 1/np.sqrt(dim)*reduce(np.kron, [ket(i, dim) for k in range(num_ions)])\n",
    "# calculate SRV\n",
    "srv(ghz, dim, num_ions)"
   ]
  },
  {
   "cell_type": "markdown",
   "metadata": {},
   "source": [
    "### Wrapping up"
   ]
  },
  {
   "cell_type": "markdown",
   "metadata": {},
   "source": [
    "**Fantastic**. That should complete all the quantum mechanics methods that we need for our ion trap environment. \n",
    "In summary, we have methods\n",
    "\n",
    "* `ket()`, `bra()`: Allowing us to implement states and matrices of arbitray dimension. That is, we can define high-dimensional composite quantum states and represent multi-qudit unitaries.\n",
    "* `srv()`: We can calculate the SRV for an arbitray pure quantum state.\n",
    "\n",
    "Now, we have a way to fill in `self.goal`, `self.init_state` and `self.srv()` in our `IonTrapEnv` class. Give yourself a clap on the back, you earned it. Up next is the laser pulses which is likely going to borrow some of the functions from this chapter. Especially, `ket()` and `bra()` will find some applications there. Since the methods defined in this chapter are going to be used in both `IonTrapEnv` and `LaserGates` classes, we should make it another class and have the others inherit its methods. No worries, in anticipation of this, I already coded it.\n",
    "\n",
    "<span class=\"mark\">**TASK**</span> Make sure that you understand the following class which is built from the methods you have designed before. **Also, please run this code.**"
   ]
  },
  {
   "cell_type": "code",
   "execution_count": 20,
   "metadata": {
    "deletable": false,
    "editable": false
   },
   "outputs": [],
   "source": [
    "import numpy as np\n",
    "from functools import reduce\n",
    "from itertools import product\n",
    "\n",
    "class QuditQM(object):\n",
    "    def __init__(self, dim, num_ions):\n",
    "        \"\"\"\n",
    "        Here we define some useful methods for n d-level quantum systems.\n",
    "        Specifically, this includes basis states |k> and <k|, creation S_{+} and\n",
    "        annihilation S_{-} operators. Further, we introduce some useful\n",
    "        mathematical tools such as partial trace and Schmidt rank vector.\n",
    "\n",
    "        Args:\n",
    "            dim (int): The local (odd) dimension of an ion.\n",
    "            num_ions (int): The number of ions.\n",
    "        \"\"\"\n",
    "        if dim % 2 == 0:\n",
    "            raise NotImplementedError('Our methods are only defined for odd ' +\n",
    "                                      f'dimensions. Your dimension: {dim}.')\n",
    "        self.dim = dim\n",
    "        self.num_ions = num_ions\n",
    "\n",
    "    def ket(self, i):\n",
    "        \"\"\"\n",
    "        Basis vector |i>=(0,...,0,1,0,...,0).\n",
    "\n",
    "        Args:\n",
    "            i (int): Index of basis vector.\n",
    "\n",
    "        Returns:\n",
    "            vec (np.ndarray): Vector form of |i> as (d,1)-dimensional array.\n",
    "        \"\"\"\n",
    "        vec = np.zeros((self.dim, 1), dtype=complex)\n",
    "        vec[i] = 1.\n",
    "        \n",
    "        return vec\n",
    "\n",
    "    def bra(self, i):\n",
    "        \"\"\"\n",
    "        Basis vector <i|=(0,...,0,1,0,...,0)^T.\n",
    "\n",
    "        Args:\n",
    "            i (int): Index of basis vector.\n",
    "        \n",
    "        Returns:\n",
    "            vec (np.ndarray): Vector form of <i| as (1,d)-dimensional array.\n",
    "        \"\"\"\n",
    "        vec = self.ket(i).T\n",
    "\n",
    "        return vec\n",
    "\n",
    "    def to_density(self, ket):\n",
    "        \"\"\"\n",
    "        Creates density matrix from complex vector |psi> as |psi><psi|.\n",
    "\n",
    "        Args:\n",
    "            ket (np.ndarray): Complex (D,1)-dimensional array. \n",
    "        \n",
    "        Returns:\n",
    "            rho (np.ndarray): Complex (D,D)-dimensional density matrix.\n",
    "        \"\"\"\n",
    "        rho = ket@ket.conj().T\n",
    "\n",
    "        return rho\n",
    "\n",
    "    def creation(self):\n",
    "        \"\"\"\n",
    "        Creation operator S_{+} for odd dimensions.\n",
    "\n",
    "        Returns:\n",
    "            creation (np.ndarray): Creation operator of given dimension.\n",
    "        \"\"\"\n",
    "        # define empty creation operator\n",
    "        creation = np.zeros((self.dim, self.dim), dtype=complex)\n",
    "\n",
    "        # add summand |l+s+1><l+s| as defined in Eq. (5)\n",
    "        s = int((self.dim - 1)/2)\n",
    "        for l in range(-s, s):\n",
    "            m = np.sqrt(s*(s+1) - l*(l+1))*(self.ket(l+s+1)@self.bra(l+s))\n",
    "            creation += m\n",
    "        \n",
    "        return creation\n",
    "\n",
    "    def annihilation(self):\n",
    "        \"\"\"\n",
    "        Annihilation operator S_{-} for odd dimensions.\n",
    "\n",
    "        Returns:\n",
    "            annihilation (np.ndarray): Annihilation operator of given dimension.\n",
    "        \"\"\"\n",
    "        # define empty annihilation operator\n",
    "        annihilation = np.zeros((self.dim, self.dim), dtype=complex)\n",
    "        s = int((self.dim - 1)/2)\n",
    "\n",
    "        # add summand |l+s><l+s+1| as defined in Eq. (5)\n",
    "        for l in range(-s, s):\n",
    "            m = np.sqrt(s*(s+1) - l*(l+1))*(self.ket(l+s)@self.bra(l+s+1))\n",
    "            annihilation += m\n",
    "        \n",
    "        return annihilation\n",
    "    \n",
    "    def partial_tr(self, rho, *args):\n",
    "        \"\"\"\n",
    "        Partial trace for a density matrix of multiple qudits (ions).\n",
    "        Given a set of indices of qudits, this methods traces the respective\n",
    "        qudits.\n",
    "\n",
    "        Args:\n",
    "            rho (np.ndarray): Density matrix which is to be traced.\n",
    "            *args (int): Variable list of indices of qudits/ions which are to be \n",
    "                         traced.\n",
    "\n",
    "        Returns:\n",
    "            reduced_rho (np.ndarray): Reduced density matrix.\n",
    "        \"\"\"\n",
    "        # define empty reduced density matrix\n",
    "        dim_reduced = self.dim**(self.num_ions-len(args))\n",
    "        reduced_rho = np.zeros((dim_reduced, dim_reduced), dtype=complex)\n",
    "        # define list of identities to be replaced by trace operator/contractor\n",
    "        basis = [np.eye(self.dim, dtype=complex) for i in range(self.num_ions)]\n",
    "        # replace id with all-zero ket vectors for ions which are to be traced\n",
    "        for ion in args:\n",
    "            basis[ion] = np.zeros((self.dim, 1), dtype=complex)\n",
    "        # perform contraction <i_1,..,i_k|\\rho|i_1,...,i_k> for all bases\n",
    "        for d_vec in product(range(self.dim), repeat=len(args)):\n",
    "            # fix basis state |i_1,...,i_k>\n",
    "            contractor = basis\n",
    "            for n, ion in enumerate(args):\n",
    "                contractor[ion][d_vec[n]] = 1.\n",
    "            contractor = reduce(np.kron, contractor)\n",
    "            # add contraction\n",
    "            reduced_rho += contractor.conj().T@rho@contractor\n",
    "\n",
    "        return reduced_rho\n",
    "\n",
    "    def srv(self, ket):\n",
    "        \"\"\"\n",
    "        Calculates the SRV of an arbitrary pure state.\n",
    "\n",
    "        Args:\n",
    "            ket (np.ndarray): The input state.\n",
    "\n",
    "        Returns:\n",
    "            srv (list): List of integeres specifying the Schmidt ranks of all\n",
    "                        single-qudit marginals.\n",
    "        \"\"\"\n",
    "        # get density matrix from pure state\n",
    "        rho = self.to_density(ket)\n",
    "        # set of all ions\n",
    "        ions = set(range(self.num_ions))\n",
    "        # define empty list of SRs\n",
    "        srv = []\n",
    "        # calculate SR for all single-qudit marginals\n",
    "        for i in range(self.num_ions):\n",
    "            # perform partial trace over all but one ion\n",
    "            traced = ions - set([i])\n",
    "            reduced_rho = self.partial_tr(rho, *traced)\n",
    "            # calculate rank of reduce density matrix\n",
    "            rank = np.linalg.matrix_rank(reduced_rho)\n",
    "            # add to SRV\n",
    "            srv.append(rank)\n",
    "\n",
    "        return srv\n"
   ]
  },
  {
   "cell_type": "markdown",
   "metadata": {},
   "source": [
    "## Laser pulses as unitaries"
   ]
  },
  {
   "cell_type": "markdown",
   "metadata": {},
   "source": [
    "It has finally come to this point: No longer can we ignore our ignorance. We need to become enlightened about lasers. Funnily, we can find both enlightment as well as ignorance at the same place: the internet. So let's venture there for help. \n",
    "\n",
    "Before we do that however, let us briefly discuss what we are looking for. In order to create entanglement, we will need multi-qudit gates, i.e., unitaries which cannot be written as a tensor product of single-qudit unitaries. For $d=2$ the controlled-NOT gate is an example of such an entangling gate. It is defined as\n",
    "\n",
    "\\begin{align}\n",
    "\\mathrm{CNOT} = |0\\rangle\\langle 0|\\otimes I + |1\\rangle\\langle 1|\\otimes X\\nonumber\n",
    "\\end{align}\n",
    "\n",
    "and maps the product state $\\frac{1}{\\sqrt{2}}(|0\\rangle + |1\\rangle)\\otimes|0\\rangle$ onto an entangled Bell state $\\frac{1}{\\sqrt{2}}(|00\\rangle + |11\\rangle)$. We want something like this. However, to ensure that we can really create *arbitrary* states, we also want single-ion gates $U\\otimes\\otimes I$ which act as identity everywhere but on one qudit. Last but not least, we want these gates to be implementable in ion traps when more than two levels of the ions are under consideration.\n",
    "\n",
    "<span class=\"mark\">**TASK**</span> Literature search is a vital skill of any scientist. Unfortunately, it can also be difficult and not very rewarding. But keep your head up my fellow scientist, we live in an era of information where there is always too much rather than too little. Instead of going to the library, you just need to remain seated and watch the information scroll by. \n",
    "So my quest to you is to find some helpful paper about *qudit quantum computation with ions*. Can you determine from a quick glance whether or not a paper is useful for what we are going to do and what we have already done? To answer this question you may require a lot of inuition especially when there is too much information. Nevertheless, this is a big part of research and should not be taken lightly."
   ]
  },
  {
   "cell_type": "markdown",
   "metadata": {
    "heading_collapsed": true
   },
   "source": [
    "### Solution"
   ]
  },
  {
   "cell_type": "markdown",
   "metadata": {
    "hidden": true
   },
   "source": [
    "Luckily, it is 2020 and there are not too many papers around discussing ion trap quantum computers beyond qubits. My guess is that you may have stumbled over this paper:\n",
    "\n",
    "*Practical trapped-ion protocols for universal qudit-based quantum computing*, P.J. Low, B.M. White, A.A. Cox, M.L. Day and C. Senko, [arXiv:1907.08569](https://arxiv.org/pdf/1907.08569.pdf).\n",
    "\n",
    "If that is the case, we hopefully came to the same conclusion: That it is perfect for our purpose. I can spot two particularly relevant equations. Eqs. (2) and (6) both defining unitary operators which easily fit in our framework."
   ]
  },
  {
   "cell_type": "markdown",
   "metadata": {},
   "source": [
    "### Skeleton class"
   ]
  },
  {
   "cell_type": "markdown",
   "metadata": {},
   "source": [
    "Skimming through the paper reveals that it is indeed possible to consider ions as $d$-level quantum systems. Good, so all our work is not for nothing. Furthermore, a second scan reveals the relevant equations: Eqs. (2) and (6) both define unitary operators that can be applied to the ions. In fact, Eq. (2) defines the action of a single-ion laser pulse and Eq. (6) defines a generalized Molmer-Sorensen (MS) gate. For those of you who have never heard of the MS gate, it is created by a *global* laser beam that interacts with all ions in a single trap. When considering qubits, the MS gate can entangle all ions at once. This seems to be its generalization to qudits, lucky us! \n",
    "\n",
    "<span class=\"mark\">**TASK**</span> Below is a skeleton class which inherits from the `QuditQM` class and contains methods `pulse` and `molmer_sorensen`. Make sure that this is in line with what we discussed and what you would have implemented."
   ]
  },
  {
   "cell_type": "code",
   "execution_count": null,
   "metadata": {},
   "outputs": [],
   "source": [
    "# dummy code -- do not run\n",
    "\n",
    "class LaserGates(QuditQM):\n",
    "    def __init__(self, dim, num_ions):\n",
    "        \"\"\"\n",
    "        This class generates the required gate set for an ion trap quantum\n",
    "        computer as described in https://arxiv.org/pdf/1907.08569.pdf.\n",
    "        Specifically, it implements single-qudit gates of the form Eq. (2)and\n",
    "        Molmer-Sorensen gates of the form Eq. (6).\n",
    "\n",
    "        Args:\n",
    "            dim (int): The local (odd) dimension of an ion.\n",
    "            num_ions (int): The number of ions.\n",
    "        \"\"\"\n",
    "        # add methods (such as `ket` or `bra`) from parent\n",
    "        super().__init__(dim, num_ions)\n",
    "        #`list` of `np.ndarray`: List of unitaries.\n",
    "        self.gates = []\n",
    "\n",
    "    def pulse(self, j, k, theta, phi):\n",
    "        \"\"\"\n",
    "        Single-ion laser pulse of the form Eq. (2) in \n",
    "        https://arxiv.org/pdf/1907.08569.pdf.\n",
    "        \n",
    "        NOTE: According to the paper only nearest neighbor transitions \n",
    "        k = j+1 are practically implementable.\n",
    "\n",
    "        Args:\n",
    "            j (int): Basis vector |j> for transition |j><k|.\n",
    "            k (int): Basis vector |k>for transition |j><k|.\n",
    "            theta (float): Pulse angle (depending on the Rabi frequency).\n",
    "            phi (float): Phase controlled by microwave or optical radiation.\n",
    "\n",
    "        Returns:\n",
    "            pulse (np.ndarray): The matrix representing the laser pulse's action\n",
    "                                on an ion.\n",
    "        \"\"\"\n",
    "    \n",
    "    def molmer_sorensen(self, theta):\n",
    "        \"\"\"\n",
    "        Molmer-Sorensen (MS) gate from Eq. (6) of \n",
    "        https://arxiv.org/pdf/1907.08569.pdf.\n",
    "        This is a global laser beam that can entangle all ions.\n",
    "\n",
    "        Args:\n",
    "            theta (float): The MS phase (depending on the Rabi frequency).\n",
    "\n",
    "        Returns:\n",
    "            ms (np.ndarray): MS gate unitary acting on all ions.\n",
    "        \"\"\"\n"
   ]
  },
  {
   "cell_type": "markdown",
   "metadata": {},
   "source": [
    "### Laser quantum gates"
   ]
  },
  {
   "cell_type": "markdown",
   "metadata": {},
   "source": [
    "<span class=\"mark\">**TASK**</span> You have arrived at the last stretch, you can almost see the finish line now. You have learned a lot and done well to arrive here. So now, let us implement the `pulse` and `molmer_sorensen` methods using Eqs. (2) and (6). With your new skill set and methods built in the previous chapters, you should be able to translate Eqs. (2) and (6) directly into methods using `numpy` and `scipy.linalg.expm`.\n",
    "\n",
    "For your convenience I already added a method `pad_gate(gate, ion)` which enables us to apply a single-ion `gate` generated by the `pulse` method to any `ion` of the `num_ions` ions. Practically, you have already done this in a previous exercise, so we skip it here."
   ]
  },
  {
   "cell_type": "code",
   "execution_count": null,
   "metadata": {},
   "outputs": [],
   "source": [
    "class LaserGates(QuditQM):\n",
    "    def __init__(self, dim, num_ions):\n",
    "        \"\"\"\n",
    "        This class generates the required gate set for an ion trap quantum\n",
    "        computer as described in https://arxiv.org/pdf/1907.08569.pdf.\n",
    "        Specifically, it implements single-qudit gates of the form Eq. (2)and\n",
    "        Molmer-Sorensen gates of the form Eq. (6).\n",
    "\n",
    "        Args:\n",
    "            dim (int): The local (odd) dimension of an ion.\n",
    "            num_ions (int): The number of ions.\n",
    "        \"\"\"\n",
    "        # add methods (such as `ket` or `bra`) from parent\n",
    "        super().__init__(dim, num_ions)\n",
    "        #`list` of `np.ndarray`: List of unitaries.\n",
    "        self.gates = []\n",
    "\n",
    "    def pulse(self, j, k, theta, phi):\n",
    "        \"\"\"\n",
    "        Single-ion laser pulse of the form Eq. (2) in \n",
    "        https://arxiv.org/pdf/1907.08569.pdf.\n",
    "        \n",
    "        NOTE: According to the paper only nearest neighbor transitions \n",
    "        k = j+1 are practically implementable.\n",
    "\n",
    "        Args:\n",
    "            j (int): Basis vector |j> for transition |j><k|.\n",
    "            k (int): Basis vector |k>for transition |j><k|.\n",
    "            theta (float): Pulse angle (depending on the Rabi frequency).\n",
    "            phi (float): Phase controlled by microwave or optical radiation.\n",
    "\n",
    "        Returns:\n",
    "            pulse (np.ndarray): The matrix representing the laser pulse's action\n",
    "                                on an ion.\n",
    "        \"\"\"\n",
    "        # TODO: fill in\n",
    "        \n",
    "\n",
    "        \n",
    "        \n",
    "        \n",
    "        \n",
    "        \n",
    "        \n",
    "        \n",
    "        \n",
    "        \n",
    "        \n",
    "    def molmer_sorensen(self, theta):\n",
    "        \"\"\"\n",
    "        Molmer-Sorensen (MS) gate from Eq. (6) of \n",
    "        https://arxiv.org/pdf/1907.08569.pdf.\n",
    "        This is a global laser beam that can entangle all ions.\n",
    "\n",
    "        Args:\n",
    "            theta (float): The MS phase (depending on the Rabi frequency).\n",
    "\n",
    "        Returns:\n",
    "            ms (np.ndarray): MS gate unitary acting on all ions.\n",
    "        \"\"\"\n",
    "        # TODO: fill in\n",
    "        \n",
    "        \n",
    "    \n",
    "    \n",
    "        \n",
    "        \n",
    "        \n",
    "        \n",
    "        \n",
    "\n",
    "    def pad_gate(self, gate, ion):\n",
    "        \"\"\"\n",
    "        Pads a single-ion gate with identities on other ions.\n",
    "\n",
    "        Args:\n",
    "            gate (np.ndarray): Single-ion gate to be padded.\n",
    "            ion (int): The index of the ion on which the gate acts.\n",
    "\n",
    "        Returns:\n",
    "            multi_gate (np.ndarray): Tensor product of `gate` with identities on\n",
    "                                     all other ions.\n",
    "        \"\"\"\n",
    "        # define list of empty single-ion identities\n",
    "        multi_gate = [np.eye(self.dim) for i in range(self.num_ions)]\n",
    "        # add gate at the position of desired ion\n",
    "        multi_gate[ion] = gate\n",
    "        # apply tensor product between single-ion gates\n",
    "        multi_gate = reduce(np.kron, multi_gate)\n",
    "\n",
    "        return multi_gate\n",
    "        \n",
    "        \n",
    "        "
   ]
  },
  {
   "cell_type": "markdown",
   "metadata": {},
   "source": [
    "<span class=\"mark\">**TASK**</span> Let us check that everything works as expected. Starting with the single-ion gates, Table VI in the paper gives us a good reference to check. Try reproducing the qutrit $X$-gate with the pulse sequences suggested in the table."
   ]
  },
  {
   "cell_type": "code",
   "execution_count": null,
   "metadata": {},
   "outputs": [],
   "source": [
    "dim = 3\n",
    "num_ions = 3\n",
    "laser = LaserGates(dim, num_ions)\n",
    "\n",
    "# check that we can reproduce the Xd gate (FILL IN)\n",
    "\n"
   ]
  },
  {
   "cell_type": "markdown",
   "metadata": {},
   "source": [
    "<span class=\"mark\">**TASK**</span> What is the resulting state and its SRV when an MS gate with angle $-\\frac{\\pi}{2}$ is applied to some standard input states $|000\\rangle$?"
   ]
  },
  {
   "cell_type": "code",
   "execution_count": 125,
   "metadata": {},
   "outputs": [],
   "source": [
    "# initial three-qutrit state\n",
    "init_state = reduce(np.kron, [laser.ket(0) for i in range(num_ions)])\n",
    "\n",
    "# resulting state (FILL IN)\n",
    "\n",
    "# resulting state's SRV (FILL IN)\n",
    "\n"
   ]
  },
  {
   "cell_type": "markdown",
   "metadata": {
    "heading_collapsed": true
   },
   "source": [
    "#### Solutions"
   ]
  },
  {
   "cell_type": "code",
   "execution_count": 21,
   "metadata": {
    "deletable": false,
    "editable": false,
    "hidden": true
   },
   "outputs": [],
   "source": [
    "class LaserGates(QuditQM):\n",
    "    def __init__(self, dim, num_ions):\n",
    "        \"\"\"\n",
    "        This class generates the required gate set for an ion trap quantum\n",
    "        computer as described in https://arxiv.org/pdf/1907.08569.pdf.\n",
    "        Specifically, it implements single-qudit gates of the form Eq. (2)and\n",
    "        Molmer-Sorensen gates of the form Eq. (6).\n",
    "\n",
    "        Args:\n",
    "            dim (int): The local (odd) dimension of an ion.\n",
    "            num_ions (int): The number of ions.\n",
    "        \"\"\"\n",
    "        # add methods (such as `ket` or `bra`) from parent\n",
    "        super().__init__(dim, num_ions)\n",
    "        #`list` of `np.ndarray`: List of unitaries.\n",
    "        self.gates = []\n",
    "\n",
    "    def pulse(self, j, k, theta, phi):\n",
    "        \"\"\"\n",
    "        Single-ion laser pulse of the form Eq. (2) in \n",
    "        https://arxiv.org/pdf/1907.08569.pdf.\n",
    "        \n",
    "        NOTE: According to the paper only nearest neighbor transitions \n",
    "        k = j+1 are practically implementable.\n",
    "\n",
    "        Args:\n",
    "            j (int): Basis vector |j> for transition |j><k|.\n",
    "            k (int): Basis vector |k>for transition |j><k|.\n",
    "            theta (float): Pulse angle (depending on the Rabi frequency).\n",
    "            phi (float): Phase controlled by microwave or optical radiation.\n",
    "\n",
    "        Returns:\n",
    "            pulse (np.ndarray): The matrix representing the laser pulse's action\n",
    "                                on an ion.\n",
    "        \"\"\"\n",
    "        # |j><k|\n",
    "        jk = self.ket(j)@self.bra(k)\n",
    "        # |k><j|\n",
    "        kj = self.ket(k)@self.bra(j)\n",
    "        # definition Eq. (2)\n",
    "        pulse = linalg.expm(-1.j*theta*(np.exp(1.j*phi)*jk+np.exp(-1.j*phi)*kj))\n",
    "\n",
    "        return pulse\n",
    " \n",
    "    def molmer_sorensen(self, theta):\n",
    "        \"\"\"\n",
    "        Molmer-Sorensen (MS) gate from Eq. (6) of \n",
    "        https://arxiv.org/pdf/1907.08569.pdf.\n",
    "        This is a global laser beam that can entangle all ions.\n",
    "\n",
    "        Args:\n",
    "            theta (float): The MS phase (depending on the Rabi frequency).\n",
    "\n",
    "        Returns:\n",
    "            ms (np.ndarray): MS gate unitary acting on all ions.\n",
    "        \"\"\"\n",
    "        # define generalized X gate \n",
    "        sx = (self.creation() + self.annihilation())/2.\n",
    "        # define empty ms gate exponent\n",
    "        ms = np.zeros((self.dim**self.num_ions, self.dim**self.num_ions), \n",
    "                       dtype=complex\n",
    "                     )\n",
    "        # calculate matrix exponent, i.e. sum of Sx for all ions\n",
    "        for n in range(self.num_ions):\n",
    "            # define list of empty single-ion identities\n",
    "            sx_n = [np.eye(self.dim) for i in range(self.num_ions)]\n",
    "            # add Sx at position of the desired ion\n",
    "            sx_n[n] = sx\n",
    "            # apply tensor product between single-ion gates and add up\n",
    "            ms += reduce(np.kron, sx_n)\n",
    "\n",
    "        # definition Eq. (6)\n",
    "        ms = linalg.expm(1.j*theta*(np.linalg.matrix_power(ms,2)))\n",
    "\n",
    "        return ms\n",
    "\n",
    "    def pad_gate(self, gate, ion):\n",
    "        \"\"\"\n",
    "        Pads a single-ion gate with identities on other ions.\n",
    "\n",
    "        Args:\n",
    "            gate (np.ndarray): Single-ion gate to be padded.\n",
    "            ion (int): The index of the ion on which the gate acts.\n",
    "\n",
    "        Returns:\n",
    "            multi_gate (np.ndarray): Tensor product of `gate` with identities on\n",
    "                                     all other ions.\n",
    "        \"\"\"\n",
    "        # define list of empty single-ion identities\n",
    "        multi_gate = [np.eye(self.dim) for i in range(self.num_ions)]\n",
    "        # add gate at the position of desired ion\n",
    "        multi_gate[ion] = gate\n",
    "        # apply tensor product between single-ion gates\n",
    "        multi_gate = reduce(np.kron, multi_gate)\n",
    "\n",
    "        return multi_gate\n"
   ]
  },
  {
   "cell_type": "code",
   "execution_count": 22,
   "metadata": {
    "deletable": false,
    "editable": false,
    "hidden": true
   },
   "outputs": [
    {
     "data": {
      "text/plain": [
       "True"
      ]
     },
     "execution_count": 22,
     "metadata": {},
     "output_type": "execute_result"
    }
   ],
   "source": [
    "dim = 3\n",
    "num_ions = 3\n",
    "laser = LaserGates(dim, num_ions)\n",
    "\n",
    "# check that we can reproduce the Xd gate\n",
    "(Xd==np.around(laser.pulse(0,1,np.pi/2,np.pi/2)@laser.pulse(1,2,np.pi/2,np.pi/2)@laser.pulse(0,1,np.pi,0), \n",
    "               decimals=10\n",
    "              )).all()"
   ]
  },
  {
   "cell_type": "code",
   "execution_count": 23,
   "metadata": {
    "deletable": false,
    "editable": false,
    "hidden": true
   },
   "outputs": [
    {
     "data": {
      "text/plain": [
       "array([[ 0.5-0.5j],\n",
       "       [ 0. +0.j ],\n",
       "       [-0. -0.j ],\n",
       "       [ 0. +0.j ],\n",
       "       [-0. -0.j ],\n",
       "       [ 0. +0.j ],\n",
       "       [-0. -0.j ],\n",
       "       [ 0. +0.j ],\n",
       "       [-0. +0.j ],\n",
       "       [ 0. +0.j ],\n",
       "       [-0. +0.j ],\n",
       "       [ 0. +0.j ],\n",
       "       [-0. -0.j ],\n",
       "       [ 0. +0.j ],\n",
       "       [-0. +0.j ],\n",
       "       [ 0. +0.j ],\n",
       "       [-0. +0.j ],\n",
       "       [ 0. +0.j ],\n",
       "       [ 0. -0.j ],\n",
       "       [ 0. +0.j ],\n",
       "       [-0. +0.j ],\n",
       "       [ 0. +0.j ],\n",
       "       [-0. +0.j ],\n",
       "       [ 0. +0.j ],\n",
       "       [-0. +0.j ],\n",
       "       [ 0. +0.j ],\n",
       "       [-0.5-0.5j]])"
      ]
     },
     "execution_count": 23,
     "metadata": {},
     "output_type": "execute_result"
    },
    {
     "data": {
      "text/plain": [
       "[2, 2, 2]"
      ]
     },
     "execution_count": 23,
     "metadata": {},
     "output_type": "execute_result"
    }
   ],
   "source": [
    "# initial three-qutrit state\n",
    "init_state = reduce(np.kron, [laser.ket(0) for i in range(num_ions)])\n",
    "\n",
    "# resulting state\n",
    "np.around(laser.molmer_sorensen(-np.pi/2)@init_state, decimals=10)\n",
    "# resulting state's SRV\n",
    "laser.srv(laser.molmer_sorensen(-np.pi/2)@init_state)"
   ]
  },
  {
   "cell_type": "markdown",
   "metadata": {},
   "source": [
    "### Wrapping up"
   ]
  },
  {
   "cell_type": "markdown",
   "metadata": {},
   "source": [
    "**Awesome**, we have a working class that implements all the quantum gates we could have wished for. However, it is already so far in the past that we have almost forgotten the purpose of this class: To generate an action set for our `IonTrapEnv`'s class. Well, that's what we intended the `gate` attribute to be. But it is still just an empty list in our class. We need to feed it with unitary quantum gates from our selection of gates! To this end, we need to select some angles for the different gates and add unitaries to the list.\n",
    "\n",
    "<span class=\"mark\">**TASK**</span> Because this is not very informative, I have completed the class in your stead. More or less at random, I have chose the following set of angles:\n",
    "\n",
    "* $\\theta$ in Eq. (2): ($\\frac{\\pi}{2}$) as `pulse_angles`\n",
    "* $\\phi$ in Eq. (2): ($0$, $\\frac{\\pi}{2}$, $\\frac{\\pi}{6}$) as `pulse_phases`\n",
    "* $\\theta_0$ in Eq. (6) ($-\\frac{\\pi}{2}$) as `ms_phases`\n",
    "\n",
    "Make sure that you understand what happened in the code below. **Please, run the code below.**"
   ]
  },
  {
   "cell_type": "code",
   "execution_count": 24,
   "metadata": {
    "deletable": false,
    "editable": false
   },
   "outputs": [],
   "source": [
    "class LaserGates(QuditQM):\n",
    "    def __init__(self, dim, num_ions):\n",
    "        \"\"\"\n",
    "        This class generates the required gate set for an ion trap quantum\n",
    "        computer as described in https://arxiv.org/pdf/1907.08569.pdf.\n",
    "        Specifically, it implements single-qudit gates of the form Eq. (2)and\n",
    "        Molmer-Sorensen gates of the form Eq. (6).\n",
    "\n",
    "        Args:\n",
    "            dim (int): The local (odd) dimension of an ion.\n",
    "            num_ions (int): The number of ions.\n",
    "        \"\"\"\n",
    "        # add methods (such as `ket` or `bra`) from parent\n",
    "        super().__init__(dim, num_ions)\n",
    "        #list: List of angles theta in Eq. (2)\n",
    "        self.pulse_angles = [np.pi/2]\n",
    "        #list: List of angles phi in Eq. (2)\n",
    "        self.pulse_phases = [0, np.pi/2, np.pi/6]\n",
    "        #list: List of angles theta in Eq. (6)\n",
    "        self.ms_phases = [-np.pi/2]\n",
    "        #`list` of `np.ndarray`: List of unitaries.\n",
    "        self.gates = []\n",
    "        # fills the `gates` with unitaries as specified by the angles.\n",
    "        self._generate_gates()\n",
    "\n",
    "    def pulse(self, j, k, theta, phi):\n",
    "        \"\"\"\n",
    "        Single-ion laser pulse of the form Eq. (2) in \n",
    "        https://arxiv.org/pdf/1907.08569.pdf.\n",
    "        \n",
    "        NOTE: According to the paper only nearest neighbor transitions \n",
    "        k = j+1 are practically implementable.\n",
    "\n",
    "        Args:\n",
    "            j (int): Basis vector |j> for transition |j><k|.\n",
    "            k (int): Basis vector |k>for transition |j><k|.\n",
    "            theta (float): Pulse angle (depending on the Rabi frequency).\n",
    "            phi (float): Phase controlled by microwave or optical radiation.\n",
    "\n",
    "        Returns:\n",
    "            pulse (np.ndarray): The matrix representing the laser pulse's action\n",
    "                                on an ion.\n",
    "        \"\"\"\n",
    "        # |j><k|\n",
    "        jk = self.ket(j)@self.bra(k)\n",
    "        # |k><j|\n",
    "        kj = self.ket(k)@self.bra(j)\n",
    "        # definition Eq. (2)\n",
    "        pulse = linalg.expm(-1.j*theta*(np.exp(1.j*phi)*jk+np.exp(-1.j*phi)*kj))\n",
    "\n",
    "        return pulse\n",
    " \n",
    "    def molmer_sorensen(self, theta):\n",
    "        \"\"\"\n",
    "        Molmer-Sorensen (MS) gate from Eq. (6) of \n",
    "        https://arxiv.org/pdf/1907.08569.pdf.\n",
    "        This is a global laser beam that can entangle all ions.\n",
    "\n",
    "        Args:\n",
    "            theta (float): The MS phase (depending on the Rabi frequency).\n",
    "\n",
    "        Returns:\n",
    "            ms (np.ndarray): MS gate unitary acting on all ions.\n",
    "        \"\"\"\n",
    "        # define generalized X gate \n",
    "        sx = (self.creation() + self.annihilation())/2.\n",
    "        # define empty ms gate exponent\n",
    "        ms = np.zeros((self.dim**self.num_ions, self.dim**self.num_ions), \n",
    "                       dtype=complex\n",
    "                     )\n",
    "        # calculate matrix exponent, i.e. sum of Sx for all ions\n",
    "        for n in range(self.num_ions):\n",
    "            # define list of empty single-ion identities\n",
    "            sx_n = [np.eye(self.dim) for i in range(self.num_ions)]\n",
    "            # add Sx at position of the desired ion\n",
    "            sx_n[n] = sx\n",
    "            # apply tensor product between single-ion gates and add up\n",
    "            ms += reduce(np.kron, sx_n)\n",
    "\n",
    "        # definition Eq. (6)\n",
    "        ms = linalg.expm(1.j*theta*(np.linalg.matrix_power(ms,2)))\n",
    "\n",
    "        return ms\n",
    "\n",
    "    def pad_gate(self, gate, ion):\n",
    "        \"\"\"\n",
    "        Pads a single-ion gate with identities on other ions.\n",
    "\n",
    "        Args:\n",
    "            gate (np.ndarray): Single-ion gate to be padded.\n",
    "            ion (int): The index of the ion on which the gate acts.\n",
    "\n",
    "        Returns:\n",
    "            multi_gate (np.ndarray): Tensor product of `gate` with identities on\n",
    "                                     all other ions.\n",
    "        \"\"\"\n",
    "        # define list of empty single-ion identities\n",
    "        multi_gate = [np.eye(self.dim) for i in range(self.num_ions)]\n",
    "        # add gate at the position of desired ion\n",
    "        multi_gate[ion] = gate\n",
    "        # apply tensor product between single-ion gates\n",
    "        multi_gate = reduce(np.kron, multi_gate)\n",
    "\n",
    "        return multi_gate\n",
    "    \n",
    "    # ---------------------- helper methods ------------------------------------\n",
    "    \n",
    "    def _generate_gates(self):\n",
    "        \"\"\"\n",
    "        Adds single-ion and MS unitaries to the list of n-ion gates according to\n",
    "        the provided list of phases.\n",
    "        \"\"\"\n",
    "        # add ms gate for each angle theta\n",
    "        for theta in self.ms_phases:\n",
    "            self.gates.append(self.molmer_sorensen(theta))\n",
    "        \n",
    "        # adds all single-ion gates\n",
    "        # for all ions\n",
    "        for ion in range(self.num_ions):\n",
    "            # for all transitions k <--> k+1\n",
    "            for k in range(self.dim-1):\n",
    "                # for all angles theta\n",
    "                for theta in self.pulse_angles:\n",
    "                    # for all angles phi\n",
    "                    for phi in self.pulse_phases:\n",
    "                        # create gate\n",
    "                        gate = self.pulse(k, k+1, theta, phi)\n",
    "                        # add n-ion gate\n",
    "                        self.gates.append(self.pad_gate(gate, ion))\n"
   ]
  },
  {
   "cell_type": "markdown",
   "metadata": {},
   "source": [
    "## Running our ion trap quantum computer environment"
   ]
  },
  {
   "cell_type": "markdown",
   "metadata": {},
   "source": [
    "Now, we have everything ready to finally complete our `IonTrapEnv`. This should be easy since we already had everything there in the skeleton except for `self.init_state`, `self.goal`, `self.srv()` and the `QuditQM` methods. Below I implemented the last missing pieces with a few modifications, e.g., `dim`, `num_ions` and a set of `goal` SRVs are now args to the class. \n",
    "\n",
    "<span class=\"mark\">**TASK**</span> The `IonTrapEnv` is ready. Now, you need to give yourself a clap on the back. You are done. Congratulations, we can *play* now."
   ]
  },
  {
   "cell_type": "code",
   "execution_count": 25,
   "metadata": {
    "deletable": false,
    "editable": false
   },
   "outputs": [],
   "source": [
    "class IonTrapEnv(QuditQM):\n",
    "    def __init__(self, dim, num_ions, goal):\n",
    "        \"\"\"\n",
    "        This is the environment for a d-level ion trap quantum computer as \n",
    "        described in https://arxiv.org/pdf/1907.08569.pdf.\n",
    "        An agent has a certain gate set at its disposal made up from elementary\n",
    "        laser pulses and global molmer sorensen gates.\n",
    "\n",
    "        At each time step an agent can choose one gate to apply to the current\n",
    "        quantum state of the environment. The state, as well as observation, \n",
    "        is a d^n dimensional quantum state where d is the local dimension of\n",
    "        each ion and n is the number of ions. The initial state is |0...0>.\n",
    "        \n",
    "        The goal is to create multipartite high-dimensional entanglement between \n",
    "        ions characterizsed by a Schmidt rank vector. Once such a state has \n",
    "        been created, the agent receives a reward. \n",
    "        \n",
    "        If a maximum number of time steps is reached, an episoded is forcefully \n",
    "        ended and should be restarted.\n",
    "        \n",
    "        Args:\n",
    "            dim (int): Local ion dimension. Must be odd.\n",
    "            num_ions (int): Number of ions.\n",
    "            goal (list): List of SRVs that need to be obtained.\n",
    "        \"\"\"\n",
    "        # add methods (such as `ket` or `bra`) from parent\n",
    "        super().__init__(dim, num_ions)\n",
    "        self.goal = goal\n",
    "\n",
    "        #:class:`LaserGates`: Some class that lets us generate the unitaries used as actions.\n",
    "        self.gates = LaserGates(self.dim, self.num_ions)\n",
    "        #list: The action gate set obtained from the class.\n",
    "        self.actions = self.gates.gates\n",
    "        #int: Number of actions.\n",
    "        self.num_actions = len(self.actions) \n",
    "        \n",
    "        #np.ndarray: Initial state.\n",
    "        self.init_state = reduce(np.kron, \n",
    "                                 [self.ket(0) for i in range(self.num_ions)]\n",
    "                                )\n",
    "        #np.ndarray: Current state of the environment and observation.\n",
    "        self.state = self.init_state        \n",
    "        \n",
    "        #int: Current number of time steps.\n",
    "        self.time_step = 0\n",
    "        #int: Maximum number of time steps.\n",
    "        self.max_steps = 10\n",
    "        \n",
    "    def reset(self):\n",
    "        \"\"\"\n",
    "        Resets the environment to its initial state, i.e., |0...0>.\n",
    "        Resets counter.\n",
    "        \n",
    "        Returns:\n",
    "            state (np.ndarray): Initial state vector.\n",
    "        \"\"\"\n",
    "        self.state = self.init_state\n",
    "        self.time_step = 0\n",
    "        \n",
    "        return self.state\n",
    "    \n",
    "    def step(self, action):\n",
    "        \"\"\"\n",
    "        Performs and evaluates an action on the environment.\n",
    "        \n",
    "        (1) A quantum gate from our laser gate set is applied to the\n",
    "            current state of the environment.\n",
    "        (2) The Schmidt rank vector (SRV) is calculate for the current state\n",
    "            of the environment. I\n",
    "        (3) If the SRV is among the set of goal SRVs, a reward is provided and\n",
    "            the trial is done. If not, no reward is given. The trial is ended if \n",
    "            the time exceed the maximum number of steps.\n",
    "\n",
    "        Args:\n",
    "            action (int): Index of action in gate set.\n",
    "\n",
    "        Returns:\n",
    "            state (np.ndarray): Current state of the environment.\n",
    "            reward (float): Current reward.\n",
    "            done (bool): Whether or not the episode is done.\n",
    "        \"\"\"\n",
    "        done = False\n",
    "        reward = 0.\n",
    "        # increment counter\n",
    "        self.time_step += 1\n",
    "        # (1) Apply gate to state\n",
    "        self.state = self.gates.gates[action]@self.state\n",
    "        # (2) Calculate SRV\n",
    "        srv = self.srv(self.state) # some method that we are still missing\n",
    "        # (3) Finish episode and give reward if appropriate\n",
    "        if srv in self.goal:\n",
    "            done = True\n",
    "            reward = 1.\n",
    "        elif self.time_step >= self.max_steps:\n",
    "            done = True\n",
    "            \n",
    "        return self.state, reward, done\n"
   ]
  },
  {
   "cell_type": "markdown",
   "metadata": {},
   "source": [
    "Remember the very first code we have written in this way too long notebook? The random agent interacting with the environment? Well, we can run it now to randomly search for $n$-qudit GHZ states,\n",
    "\n",
    "\\begin{align}\n",
    "|\\mathrm{GHZ}_{n,d}\\rangle = \\frac{1}{\\sqrt{d}}\\sum_{i=0}^{d-1}|i\\rangle\\otimes\\cdots\\otimes|i\\rangle\\nonumber\n",
    "\\end{align}\n",
    "\n",
    "characterized by the maxmimum SRV.\n",
    "\n",
    "\\begin{align}\n",
    "\\vec{d}_{\\mathrm{ghz}} = (d,\\dots, d)\\nonumber\n",
    "\\end{align}.\n",
    "\n",
    "<span class=\"mark\">**TASK**</span> Run the code below and fool around with the environment as you see fit. You earned it! **Have fun!**"
   ]
  },
  {
   "cell_type": "code",
   "execution_count": 34,
   "metadata": {},
   "outputs": [
    {
     "name": "stdout",
     "output_type": "stream",
     "text": [
      "The following action sequence obtained a reward: [0, 9, 10, 2, 0, 16, 10, 2, 6, 0]\n",
      "The following action sequence obtained a reward: [5, 0, 2, 0, 16, 9, 7, 7, 0]\n",
      "The following action sequence obtained a reward: [0, 3, 17, 0, 16, 8, 12, 11, 0]\n"
     ]
    }
   ],
   "source": [
    "dim = 3\n",
    "num_ions = 3\n",
    "goal_srv = [[3,3,3]]\n",
    "env = IonTrapEnv(dim, num_ions, goal_srv)\n",
    "\n",
    "for i in range(1000):\n",
    "    done = False\n",
    "    observation = env.reset()\n",
    "    action_seq = []\n",
    "    while not done:\n",
    "        action = np.random.choice(env.num_actions)\n",
    "        action_seq.append(action)\n",
    "        observation, reward, done = env.step(action)\n",
    "        \n",
    "        if reward > 0:\n",
    "            print(f'The following action sequence obtained a reward: {action_seq}')"
   ]
  },
  {
   "cell_type": "code",
   "execution_count": null,
   "metadata": {},
   "outputs": [],
   "source": []
  }
 ],
 "metadata": {
  "kernelspec": {
   "display_name": "Python 3",
   "language": "python",
   "name": "python3"
  },
  "language_info": {
   "codemirror_mode": {
    "name": "ipython",
    "version": 3
   },
   "file_extension": ".py",
   "mimetype": "text/x-python",
   "name": "python",
   "nbconvert_exporter": "python",
   "pygments_lexer": "ipython3",
   "version": "3.7.4"
  },
  "latex_envs": {
   "LaTeX_envs_menu_present": true,
   "autoclose": false,
   "autocomplete": true,
   "bibliofile": "biblio.bib",
   "cite_by": "apalike",
   "current_citInitial": 1,
   "eqLabelWithNumbers": true,
   "eqNumInitial": 1,
   "hotkeys": {
    "equation": "Ctrl-E",
    "itemize": "Ctrl-I"
   },
   "labels_anchors": false,
   "latex_user_defs": false,
   "report_style_numbering": false,
   "user_envs_cfg": false
  }
 },
 "nbformat": 4,
 "nbformat_minor": 4
}
