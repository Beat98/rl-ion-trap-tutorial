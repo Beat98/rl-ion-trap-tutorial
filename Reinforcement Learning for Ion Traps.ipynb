{
 "cells": [
  {
   "cell_type": "markdown",
   "metadata": {},
   "source": [
    "# Reinforcement Learning for Ion Trap Quantum Computers"
   ]
  },
  {
   "cell_type": "markdown",
   "metadata": {},
   "source": [
    "This exercise is a short extension of the **Ion Trap Reinforcement Learning Environment** where we are going to employ a Projective Simulation (PS) agent to use short laser pulse sequences mapping an initially unentangled state $|000\\rangle$ onto a GHZ-like state:\n",
    "\n",
    "\\begin{align}\n",
    "|\\mathrm{GHZ}\\rangle = \\frac{1}{\\sqrt{d}}\\sum_{i=0}^{d-1}|iii\\rangle.\\nonumber\n",
    "\\end{align}\n",
    "\n",
    "We will consider three qutrits, i.e., $d=3$ for simplicity but you may choose to extend this at your own leisure.\n",
    "\n",
    "More formally, we do not want to find GHZ states exactly but those states which are maximally entangled. We consider $n$ $d$-level states to be maximally entangled if they have a *Schmidt rank vector* (SRV) of $(d,...,d)$ where the $i$th entry is the rank of the reduced density matrix $\\rho_i=\\mathrm{tr}_{\\bar{i}}(\\rho)$ where $\\bar{i}$ is the complement of $\\{i\\}$ in $\\{1,...,n\\}$.\n",
    "\n",
    "Luckily, you don't really have to take care of this since this is already the default settings of the environment which we are going to load now:"
   ]
  },
  {
   "cell_type": "code",
   "execution_count": 1,
   "metadata": {},
   "outputs": [],
   "source": [
    "from ion_trap import IonTrapEnv"
   ]
  },
  {
   "cell_type": "markdown",
   "metadata": {},
   "source": [
    "That was easy. According to the docs in the `init` method, the class allows the following kwargs:\n",
    "\n",
    "* `num_ions` (int): The number of ions. Defaults to 3.\n",
    "* `dim` (int): The local (odd) dimension of an ion. Defaults to 3.\n",
    "* `goal` (list): List of SRVs that are rewarded. Defaults to `[[3,3,3]]`.\n",
    "* `phases` (dict): The phases defining the laser gate set. Defaults to `{'pulse_angles': [np.pi/2], 'pulse_phases': [0, np.pi/2, np.pi/6], 'ms_phases': [-np.pi/2]}`\n",
    "* `max_steps` (int): The maximum number of allowed time steps. Defaults to 10.\n",
    "\n",
    "If you want to change anything you need to provide kwargs in form of a `dict` with the desired arguments as follows `IonTrapEnv(**{ 'max_steps': 20 })`. \n",
    "Indeed, let us submit a small change. Since this is just supposed to be a small scale test, let us reduce the number of allowed phases and therefore, the number of possible actions."
   ]
  },
  {
   "cell_type": "code",
   "execution_count": 3,
   "metadata": {},
   "outputs": [],
   "source": [
    "import numpy as np\n",
    "KWARGS = {'phases': {'pulse_angles': [np.pi/2], 'pulse_phases': [np.pi/2], 'ms_phases': [-np.pi/2]}}\n",
    "env = IonTrapEnv(**KWARGS)"
   ]
  },
  {
   "cell_type": "markdown",
   "metadata": {},
   "source": [
    "Next, we need to get the reinforcement learning agent that is to learn some pulse sequences. We have a simple PS agent for you in store:"
   ]
  },
  {
   "cell_type": "code",
   "execution_count": 4,
   "metadata": {},
   "outputs": [],
   "source": [
    "from ps import PSAgent"
   ]
  },
  {
   "cell_type": "markdown",
   "metadata": {},
   "source": [
    "For the args of this class the docs say the following:\n",
    "\n",
    "* `num_actions` (int): The number of available actions.\n",
    "* `glow` (float, optional): The glow (or eta) parameter. Defaults to 0.1\n",
    "* `damp` (float, optional): The damping (or gamma) parameter. Defaults to 0.\n",
    "* `softmax` (float, optional): The softmax (or beta) parameter. Defaults to 0.1.\n",
    "\n",
    "We don't know the number of actions at this point, but possibly want to keep all the other default parameters. Let's ask the environment how many actions there are and initialize the agent accordingly."
   ]
  },
  {
   "cell_type": "code",
   "execution_count": 5,
   "metadata": {},
   "outputs": [],
   "source": [
    "num_actions = env.num_actions\n",
    "\n",
    "agent = PSAgent(num_actions)"
   ]
  },
  {
   "cell_type": "markdown",
   "metadata": {},
   "source": [
    "Fantastic, we have everything ready for a first run. Let's do that. The interaction between an environment and an agent is standardized through the [*openAI* `gym`](https://github.com/openai/gym) environments. That is, every reinforcement learning environment should provide at least two methods:\n",
    "\n",
    "* `reset()`: Resets the environment to its initial state. *Returns* the initial observation.\n",
    "* `step(action)`: Performs an action (given by an action index) on the environment. *Returns* the new observation, an associated reward and a bool value `done` which indicates whether a terminal state has been reached.\n",
    "\n",
    "The agent on the other hand, supports the following two main methods:\n",
    "\n",
    "* `predict(observation)`: Given an observation, the agent predicts an action. *Returns* an action index.\n",
    "* `learn(reward)`: Uses the current reward to update internal network.\n",
    "\n",
    "Knowing that the `IonTrapEnv` has been built according to this standard and the agent features the two methods above, we can start coding the interaction between agent and environment:"
   ]
  },
  {
   "cell_type": "code",
   "execution_count": 6,
   "metadata": {},
   "outputs": [],
   "source": [
    "# data set for performance evaluation\n",
    "DATA_STEPS = []\n",
    "# maximum number of episodes\n",
    "NUM_EPISODES = 5000\n",
    "\n",
    "for i in range(NUM_EPISODES):\n",
    "    # initial observation from environment\n",
    "    observation = env.reset()\n",
    "    #bool: whether or not the environment has finished the episode\n",
    "    done = False\n",
    "    #int: the current time step in this episode\n",
    "    num_steps = 0\n",
    "    while not done:\n",
    "        # increment counter\n",
    "        num_steps += 1\n",
    "        # predict action\n",
    "        action = agent.predict(observation)\n",
    "        # perform action on environment and receive observation and reward\n",
    "        observation, reward, done = env.step(action)\n",
    "        # learn from reward\n",
    "        agent.train(reward)\n",
    "        \n",
    "        # gather statistics\n",
    "        if done:\n",
    "            DATA_STEPS.append(num_steps)\n"
   ]
  },
  {
   "cell_type": "markdown",
   "metadata": {},
   "source": [
    "And this is all the code that is needed to have an agent interact with our environment! In `DATA_STEPS` we have gathered the data that keeps track of the length of pulse sequences that generate GHZ-like states. We can use `matplotlib` to visualize the performance of the agent over time:"
   ]
  },
  {
   "cell_type": "code",
   "execution_count": 7,
   "metadata": {},
   "outputs": [
    {
     "data": {
      "text/plain": [
       "Text(0.5, 0, 'Episode')"
      ]
     },
     "execution_count": 7,
     "metadata": {},
     "output_type": "execute_result"
    },
    {
     "data": {
      "image/png": "[encoded data removed]",
      "text/plain": [
       "<Figure size 432x288 with 1 Axes>"
      ]
     },
     "metadata": {
      "needs_background": "light"
     },
     "output_type": "display_data"
    }
   ],
   "source": [
    "import matplotlib.pyplot as plt\n",
    "import numpy as np\n",
    "\n",
    "x_axis = np.arange(len(DATA_STEPS))\n",
    "\n",
    "plt.plot(x_axis, DATA_STEPS)\n",
    "plt.ylabel('Length of pulse sequence')\n",
    "plt.xlabel('Episode')\n"
   ]
  },
  {
   "cell_type": "markdown",
   "metadata": {},
   "source": [
    "We have witnessed an agent learning! The agent was able to push the gate sequences down to 5 laser pulses consisting of two Molmer-Sorensen gates and three single-ion laser pules.\n",
    "Note that this is of course not conclusive because it is a single agent. Nevertheless, it has obviously learned and we can expect future agents to fare similarly. **Good work!**"
   ]
  }
 ],
 "metadata": {
  "kernelspec": {
   "display_name": "Python 3",
   "language": "python",
   "name": "python3"
  },
  "language_info": {
   "codemirror_mode": {
    "name": "ipython",
    "version": 3
   },
   "file_extension": ".py",
   "mimetype": "text/x-python",
   "name": "python",
   "nbconvert_exporter": "python",
   "pygments_lexer": "ipython3",
   "version": "3.7.4"
  },
  "latex_envs": {
   "LaTeX_envs_menu_present": true,
   "autoclose": false,
   "autocomplete": true,
   "bibliofile": "biblio.bib",
   "cite_by": "apalike",
   "current_citInitial": 1,
   "eqLabelWithNumbers": true,
   "eqNumInitial": 1,
   "hotkeys": {
    "equation": "Ctrl-E",
    "itemize": "Ctrl-I"
   },
   "labels_anchors": false,
   "latex_user_defs": false,
   "report_style_numbering": false,
   "user_envs_cfg": false
  }
 },
 "nbformat": 4,
 "nbformat_minor": 4
}
